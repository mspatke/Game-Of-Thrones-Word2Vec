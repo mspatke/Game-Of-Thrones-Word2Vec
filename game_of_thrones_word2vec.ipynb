{
 "cells": [
  {
   "cell_type": "code",
   "execution_count": 2,
   "id": "several-fiber",
   "metadata": {},
   "outputs": [],
   "source": [
    "import pandas as pd\n",
    "import numpy as np"
   ]
  },
  {
   "cell_type": "code",
   "execution_count": 4,
   "id": "remarkable-gossip",
   "metadata": {},
   "outputs": [
    {
     "name": "stdout",
     "output_type": "stream",
     "text": [
      "Collecting gensim\n",
      "  Downloading gensim-4.1.2-cp38-cp38-win_amd64.whl (24.0 MB)\n",
      "     ---------------------------------------- 24.0/24.0 MB 7.9 MB/s eta 0:00:00\n",
      "Requirement already satisfied: smart-open>=1.8.1 in c:\\python\\python38\\lib\\site-packages (from gensim) (5.2.1)\n",
      "Collecting Cython==0.29.23\n",
      "  Downloading Cython-0.29.23-cp38-cp38-win_amd64.whl (1.7 MB)\n",
      "     ---------------------------------------- 1.7/1.7 MB 8.8 MB/s eta 0:00:00\n",
      "Requirement already satisfied: numpy>=1.17.0 in c:\\python\\python38\\lib\\site-packages (from gensim) (1.22.2)\n",
      "Requirement already satisfied: scipy>=0.18.1 in c:\\users\\dell\\appdata\\roaming\\python\\python38\\site-packages (from gensim) (1.4.1)\n",
      "Installing collected packages: Cython, gensim\n",
      "Successfully installed Cython-0.29.23 gensim-4.1.2\n"
     ]
    }
   ],
   "source": [
    "!pip install gensim"
   ]
  },
  {
   "cell_type": "code",
   "execution_count": 5,
   "id": "forced-basic",
   "metadata": {},
   "outputs": [],
   "source": [
    "import gensim\n",
    "import os"
   ]
  },
  {
   "cell_type": "code",
   "execution_count": 7,
   "id": "synthetic-acrobat",
   "metadata": {},
   "outputs": [],
   "source": [
    "from nltk import sent_tokenize\n",
    "from gensim.utils import simple_preprocess"
   ]
  },
  {
   "cell_type": "code",
   "execution_count": 9,
   "id": "municipal-supplier",
   "metadata": {},
   "outputs": [],
   "source": [
    "story=[]\n",
    "\n",
    "for filename in os.listdir('GOT-Data'):\n",
    "    \n",
    "    f = open(os.path.join('GOT-Data',filename))\n",
    "    corpus = f.read()\n",
    "    raw_sent = sent_tokenize(corpus)\n",
    "    for sent in raw_sent:\n",
    "        story.append(simple_preprocess(sent))\n",
    "        # remove syop words"
   ]
  },
  {
   "cell_type": "code",
   "execution_count": 11,
   "id": "appreciated-stephen",
   "metadata": {},
   "outputs": [
    {
     "data": {
      "text/plain": [
       "141218"
      ]
     },
     "execution_count": 11,
     "metadata": {},
     "output_type": "execute_result"
    }
   ],
   "source": [
    "len(story)"
   ]
  },
  {
   "cell_type": "code",
   "execution_count": 13,
   "id": "focused-perry",
   "metadata": {},
   "outputs": [],
   "source": [
    "model =  gensim.models.Word2Vec(\n",
    "    window=10,\n",
    "    min_count=2,\n",
    "    )"
   ]
  },
  {
   "cell_type": "code",
   "execution_count": 14,
   "id": "scientific-tunisia",
   "metadata": {},
   "outputs": [],
   "source": [
    "model.build_vocab(story)"
   ]
  },
  {
   "cell_type": "code",
   "execution_count": 15,
   "id": "statutory-bandwidth",
   "metadata": {},
   "outputs": [
    {
     "data": {
      "text/plain": [
       "(6569470, 8628190)"
      ]
     },
     "execution_count": 15,
     "metadata": {},
     "output_type": "execute_result"
    }
   ],
   "source": [
    "model.train(story, total_examples = model.corpus_count, epochs=model.epochs)"
   ]
  },
  {
   "cell_type": "code",
   "execution_count": 18,
   "id": "absolute-craft",
   "metadata": {},
   "outputs": [
    {
     "data": {
      "text/plain": [
       "[('stormborn', 0.8041619062423706),\n",
       " ('myrcella', 0.742686927318573),\n",
       " ('princess', 0.7400991916656494),\n",
       " ('targaryen', 0.7352713346481323),\n",
       " ('unburnt', 0.7191730737686157),\n",
       " ('margaery', 0.6880874633789062),\n",
       " ('queen', 0.6847596168518066),\n",
       " ('viserys', 0.6813690066337585),\n",
       " ('elia', 0.6559594869613647),\n",
       " ('moro', 0.6531243324279785)]"
      ]
     },
     "execution_count": 18,
     "metadata": {},
     "output_type": "execute_result"
    }
   ],
   "source": [
    "model.wv.most_similar(\"daenerys\")"
   ]
  },
  {
   "cell_type": "code",
   "execution_count": 19,
   "id": "disciplinary-johnson",
   "metadata": {},
   "outputs": [
    {
     "data": {
      "text/plain": [
       "'jon'"
      ]
     },
     "execution_count": 19,
     "metadata": {},
     "output_type": "execute_result"
    }
   ],
   "source": [
    "model.wv.doesnt_match(['jon','rikon','robb','arya','sansa','bran'])"
   ]
  },
  {
   "cell_type": "code",
   "execution_count": 20,
   "id": "regional-brooklyn",
   "metadata": {},
   "outputs": [
    {
     "data": {
      "text/plain": [
       "'bronn'"
      ]
     },
     "execution_count": 20,
     "metadata": {},
     "output_type": "execute_result"
    }
   ],
   "source": [
    "model.wv.doesnt_match(['cersei','jaime','bronn','tyrion'])"
   ]
  },
  {
   "cell_type": "code",
   "execution_count": 22,
   "id": "minimal-somerset",
   "metadata": {},
   "outputs": [
    {
     "data": {
      "text/plain": [
       "(100,)"
      ]
     },
     "execution_count": 22,
     "metadata": {},
     "output_type": "execute_result"
    }
   ],
   "source": [
    "model.wv['jon'].shape"
   ]
  },
  {
   "cell_type": "code",
   "execution_count": 23,
   "id": "foster-albania",
   "metadata": {},
   "outputs": [
    {
     "data": {
      "text/plain": [
       "0.84049684"
      ]
     },
     "execution_count": 23,
     "metadata": {},
     "output_type": "execute_result"
    }
   ],
   "source": [
    "model.wv.similarity('arya','sansa')"
   ]
  },
  {
   "cell_type": "code",
   "execution_count": 24,
   "id": "excellent-castle",
   "metadata": {},
   "outputs": [
    {
     "data": {
      "text/plain": [
       "0.73761576"
      ]
     },
     "execution_count": 24,
     "metadata": {},
     "output_type": "execute_result"
    }
   ],
   "source": [
    "model.wv.similarity('cersei','sansa')"
   ]
  },
  {
   "cell_type": "code",
   "execution_count": 25,
   "id": "celtic-beatles",
   "metadata": {},
   "outputs": [
    {
     "data": {
      "text/plain": [
       "0.22930726"
      ]
     },
     "execution_count": 25,
     "metadata": {},
     "output_type": "execute_result"
    }
   ],
   "source": [
    "model.wv.similarity('tywin','sansa')"
   ]
  },
  {
   "cell_type": "code",
   "execution_count": 28,
   "id": "finite-patch",
   "metadata": {},
   "outputs": [
    {
     "data": {
      "text/plain": [
       "(17453, 100)"
      ]
     },
     "execution_count": 28,
     "metadata": {},
     "output_type": "execute_result"
    }
   ],
   "source": [
    "model.wv.get_normed_vectors().shape\n",
    "# unique words= 17543 with 100 dim"
   ]
  },
  {
   "cell_type": "code",
   "execution_count": 29,
   "id": "serial-jersey",
   "metadata": {},
   "outputs": [],
   "source": [
    "y = model.wv.index_to_key"
   ]
  },
  {
   "cell_type": "code",
   "execution_count": 30,
   "id": "quality-webcam",
   "metadata": {},
   "outputs": [
    {
     "data": {
      "text/plain": [
       "17453"
      ]
     },
     "execution_count": 30,
     "metadata": {},
     "output_type": "execute_result"
    }
   ],
   "source": [
    "len(y)"
   ]
  },
  {
   "cell_type": "code",
   "execution_count": 31,
   "id": "fatal-jungle",
   "metadata": {
    "collapsed": true
   },
   "outputs": [
    {
     "data": {
      "text/plain": [
       "['the',\n",
       " 'and',\n",
       " 'to',\n",
       " 'of',\n",
       " 'he',\n",
       " 'his',\n",
       " 'was',\n",
       " 'you',\n",
       " 'her',\n",
       " 'in',\n",
       " 'it',\n",
       " 'had',\n",
       " 'that',\n",
       " 'she',\n",
       " 'as',\n",
       " 'with',\n",
       " 'him',\n",
       " 'not',\n",
       " 'but',\n",
       " 'for',\n",
       " 'they',\n",
       " 'is',\n",
       " 'at',\n",
       " 'on',\n",
       " 'said',\n",
       " 'my',\n",
       " 'have',\n",
       " 'be',\n",
       " 'lord',\n",
       " 'them',\n",
       " 'no',\n",
       " 'from',\n",
       " 'would',\n",
       " 'were',\n",
       " 'me',\n",
       " 'your',\n",
       " 'one',\n",
       " 'all',\n",
       " 'when',\n",
       " 'will',\n",
       " 'ser',\n",
       " 'if',\n",
       " 'so',\n",
       " 'their',\n",
       " 'we',\n",
       " 'could',\n",
       " 'are',\n",
       " 'man',\n",
       " 'there',\n",
       " 'this',\n",
       " 'up',\n",
       " 'been',\n",
       " 'what',\n",
       " 'did',\n",
       " 'by',\n",
       " 'king',\n",
       " 'do',\n",
       " 'men',\n",
       " 'back',\n",
       " 'out',\n",
       " 'more',\n",
       " 'or',\n",
       " 'who',\n",
       " 'down',\n",
       " 'well',\n",
       " 'than',\n",
       " 'only',\n",
       " 'like',\n",
       " 'jon',\n",
       " 'some',\n",
       " 'father',\n",
       " 'old',\n",
       " 'hand',\n",
       " 'even',\n",
       " 'too',\n",
       " 'tyrion',\n",
       " 'before',\n",
       " 'never',\n",
       " 'an',\n",
       " 'off',\n",
       " 'see',\n",
       " 'know',\n",
       " 'into',\n",
       " 'made',\n",
       " 'now',\n",
       " 'eyes',\n",
       " 'black',\n",
       " 'told',\n",
       " 'lady',\n",
       " 'thought',\n",
       " 'time',\n",
       " 'then',\n",
       " 'how',\n",
       " 'long',\n",
       " 'has',\n",
       " 'can',\n",
       " 'might',\n",
       " 'us',\n",
       " 'come',\n",
       " 'where',\n",
       " 'here',\n",
       " 'through',\n",
       " 'still',\n",
       " 'face',\n",
       " 'head',\n",
       " 'red',\n",
       " 'll',\n",
       " 'way',\n",
       " 'boy',\n",
       " 'page',\n",
       " 'must',\n",
       " 'once',\n",
       " 'queen',\n",
       " 'good',\n",
       " 'two',\n",
       " 'brother',\n",
       " 'night',\n",
       " 'over',\n",
       " 'little',\n",
       " 'about',\n",
       " 'took',\n",
       " 'other',\n",
       " 'came',\n",
       " 'though',\n",
       " 'again',\n",
       " 'say',\n",
       " 'three',\n",
       " 'should',\n",
       " 'away',\n",
       " 'dead',\n",
       " 'son',\n",
       " 'own',\n",
       " 'blood',\n",
       " 'am',\n",
       " 'take',\n",
       " 'go',\n",
       " 'half',\n",
       " 'make',\n",
       " 'arya',\n",
       " 'saw',\n",
       " 'day',\n",
       " 'white',\n",
       " 'jaime',\n",
       " 'first',\n",
       " 'himself',\n",
       " 'our',\n",
       " 'look',\n",
       " 'want',\n",
       " 'after',\n",
       " 'much',\n",
       " 'enough',\n",
       " 'sword',\n",
       " 'tell',\n",
       " 'girl',\n",
       " 'bran',\n",
       " 'great',\n",
       " 'its',\n",
       " 'looked',\n",
       " 'left',\n",
       " 'knew',\n",
       " 'asked',\n",
       " 'gave',\n",
       " 'maester',\n",
       " 'called',\n",
       " 'wall',\n",
       " 'every',\n",
       " 'heard',\n",
       " 'sansa',\n",
       " 'let',\n",
       " 'yet',\n",
       " 'went',\n",
       " 'turned',\n",
       " 'dany',\n",
       " 'why',\n",
       " 'need',\n",
       " 'behind',\n",
       " 'around',\n",
       " 'just',\n",
       " 'woman',\n",
       " 'another',\n",
       " 'snow',\n",
       " 'beneath',\n",
       " 'across',\n",
       " 'knight',\n",
       " 'keep',\n",
       " 'grace',\n",
       " 'found',\n",
       " 'gold',\n",
       " 'any',\n",
       " 'last',\n",
       " 'cersei',\n",
       " 'castle',\n",
       " 'those',\n",
       " 'stark',\n",
       " 'gods',\n",
       " 'think',\n",
       " 'hair',\n",
       " 'many',\n",
       " 'feet',\n",
       " 'against',\n",
       " 'hands',\n",
       " 'stannis',\n",
       " 'mother',\n",
       " 'catelyn',\n",
       " 'robert',\n",
       " 'seemed',\n",
       " 'prince',\n",
       " 'may',\n",
       " 'ever',\n",
       " 'robb',\n",
       " 'done',\n",
       " 'don',\n",
       " 'find',\n",
       " 'lannister',\n",
       " 're',\n",
       " 'hear',\n",
       " 'grey',\n",
       " 'name',\n",
       " 'horse',\n",
       " 'high',\n",
       " 'put',\n",
       " 'stone',\n",
       " 'wine',\n",
       " 'hard',\n",
       " 'water',\n",
       " 'upon',\n",
       " 'fire',\n",
       " 'iron',\n",
       " 'until',\n",
       " 'these',\n",
       " 'voice',\n",
       " 'gone',\n",
       " 'give',\n",
       " 'sam',\n",
       " 'seen',\n",
       " 'better',\n",
       " 'shall',\n",
       " 'ned',\n",
       " 'always',\n",
       " 'years',\n",
       " 'between',\n",
       " 'dark',\n",
       " 'place',\n",
       " 'small',\n",
       " 'cold',\n",
       " 'winterfell',\n",
       " 'most',\n",
       " 'hundred',\n",
       " 'stood',\n",
       " 'end',\n",
       " 'sister',\n",
       " 'words',\n",
       " 'sea',\n",
       " 'right',\n",
       " 'nothing',\n",
       " 'walls',\n",
       " 'fingers',\n",
       " 'same',\n",
       " 'cloak',\n",
       " 'house',\n",
       " 'young',\n",
       " 'does',\n",
       " 'beside',\n",
       " 'get',\n",
       " 'mouth',\n",
       " 'seven',\n",
       " 'watch',\n",
       " 'door',\n",
       " 'joffrey',\n",
       " 'green',\n",
       " 'big',\n",
       " 'under',\n",
       " 'few',\n",
       " 'sent',\n",
       " 'perhaps',\n",
       " 'almost',\n",
       " 'such',\n",
       " 'wanted',\n",
       " 'daughter',\n",
       " 'true',\n",
       " 'while',\n",
       " 'leave',\n",
       " 'city',\n",
       " 'wind',\n",
       " 'light',\n",
       " 'arms',\n",
       " 'children',\n",
       " 'herself',\n",
       " 'sweet',\n",
       " 'others',\n",
       " 'lost',\n",
       " 'theon',\n",
       " 'each',\n",
       " 'felt',\n",
       " 'side',\n",
       " 'yes',\n",
       " 'brothers',\n",
       " 'best',\n",
       " 'very',\n",
       " 'die',\n",
       " 'brought',\n",
       " 'soon',\n",
       " 'far',\n",
       " 'died',\n",
       " 'north',\n",
       " 'child',\n",
       " 'fear',\n",
       " 'along',\n",
       " 'word',\n",
       " 'brienne',\n",
       " 'both',\n",
       " 'taken',\n",
       " 'battle',\n",
       " 'help',\n",
       " 'new',\n",
       " 'tywin',\n",
       " 'davos',\n",
       " 'lords',\n",
       " 'something',\n",
       " 've',\n",
       " 'wife',\n",
       " 'mean',\n",
       " 'rest',\n",
       " 'hall',\n",
       " 'kill',\n",
       " 'strong',\n",
       " 'steel',\n",
       " 'began',\n",
       " 'sound',\n",
       " 'won',\n",
       " 'dragon',\n",
       " 'past',\n",
       " 'life',\n",
       " 'tower',\n",
       " 'killed',\n",
       " 'arm',\n",
       " 'sons',\n",
       " 'tried',\n",
       " 'free',\n",
       " 'thing',\n",
       " 'days',\n",
       " 'bear',\n",
       " 'bloody',\n",
       " 'heart',\n",
       " 'pale',\n",
       " 'love',\n",
       " 'moment',\n",
       " 'sat',\n",
       " 'bring',\n",
       " 'bed',\n",
       " 'close',\n",
       " 'knights',\n",
       " 'cut',\n",
       " 'wolf',\n",
       " 'horses',\n",
       " 'smile',\n",
       " 'death',\n",
       " 'inside',\n",
       " 'four',\n",
       " 'brown',\n",
       " 'dragons',\n",
       " 'hot',\n",
       " 'silver',\n",
       " 'part',\n",
       " 'bastard',\n",
       " 'open',\n",
       " 'nor',\n",
       " 'thousand',\n",
       " 'landing',\n",
       " 'uncle',\n",
       " 'above',\n",
       " 'going',\n",
       " 'blue',\n",
       " 'air',\n",
       " 'captain',\n",
       " 'please',\n",
       " 'laughed',\n",
       " 'river',\n",
       " 'sun',\n",
       " 'rose',\n",
       " 'fell',\n",
       " 'war',\n",
       " 'golden',\n",
       " 'sleep',\n",
       " 'without',\n",
       " 'swords',\n",
       " 'speak',\n",
       " 'renly',\n",
       " 'full',\n",
       " 'fool',\n",
       " 'certain',\n",
       " 'beyond',\n",
       " 'feel',\n",
       " 'send',\n",
       " 'tongue',\n",
       " 'got',\n",
       " 'fight',\n",
       " 'rode',\n",
       " 'set',\n",
       " 'thick',\n",
       " 'throat',\n",
       " 'world',\n",
       " 'deep',\n",
       " 'legs',\n",
       " 'call',\n",
       " 'honor',\n",
       " 'rock',\n",
       " 'trees',\n",
       " 'tall',\n",
       " 'table',\n",
       " 'pulled',\n",
       " 'broken',\n",
       " 'mormont',\n",
       " 'women',\n",
       " 'steps',\n",
       " 'things',\n",
       " 'next',\n",
       " 'hodor',\n",
       " 'heavy',\n",
       " 'burned',\n",
       " 'oh',\n",
       " 'toward',\n",
       " 'together',\n",
       " 'skin',\n",
       " 'given',\n",
       " 'since',\n",
       " 'smiled',\n",
       " 'dwarf',\n",
       " 'alone',\n",
       " 'moved',\n",
       " 'storm',\n",
       " 'raised',\n",
       " 'ride',\n",
       " 'ask',\n",
       " 'hope',\n",
       " 'eye',\n",
       " 'soft',\n",
       " 'reached',\n",
       " 'frey',\n",
       " 'second',\n",
       " 'remember',\n",
       " 'someone',\n",
       " 'remembered',\n",
       " 'coming',\n",
       " 'meant',\n",
       " 'cannot',\n",
       " 'hold',\n",
       " 'morning',\n",
       " 'ten',\n",
       " 'teeth',\n",
       " 'else',\n",
       " 'throne',\n",
       " 'command',\n",
       " 'which',\n",
       " 'fat',\n",
       " 'truth',\n",
       " 'commander',\n",
       " 'walder',\n",
       " 'doubt',\n",
       " 'ground',\n",
       " 'jorah',\n",
       " 'cup',\n",
       " 'outside',\n",
       " 'known',\n",
       " 'wore',\n",
       " 'ran',\n",
       " 'gate',\n",
       " 'room',\n",
       " 'held',\n",
       " 'closed',\n",
       " 'home',\n",
       " 'matter',\n",
       " 'sky',\n",
       " 'south',\n",
       " 'wood',\n",
       " 'dozen',\n",
       " 'wed',\n",
       " 'people',\n",
       " 'neck',\n",
       " 'riverrun',\n",
       " 'food',\n",
       " 'instead',\n",
       " 'near',\n",
       " 'talk',\n",
       " 'turn',\n",
       " 'none',\n",
       " 'ships',\n",
       " 'tyrell',\n",
       " 'below',\n",
       " 'moon',\n",
       " 'summer',\n",
       " 'bolton',\n",
       " 'shadow',\n",
       " 'lips',\n",
       " 'watched',\n",
       " 'times',\n",
       " 'leather',\n",
       " 'varys',\n",
       " 'shoulder',\n",
       " 'septon',\n",
       " 'warm',\n",
       " 'caught',\n",
       " 'believe',\n",
       " 'least',\n",
       " 'guards',\n",
       " 'answer',\n",
       " 'god',\n",
       " 'blade',\n",
       " 'wondered',\n",
       " 'ice',\n",
       " 'opened',\n",
       " 'shield',\n",
       " 'barristan',\n",
       " 'mine',\n",
       " 'armor',\n",
       " 'safe',\n",
       " 'six',\n",
       " 'kept',\n",
       " 'wish',\n",
       " 'return',\n",
       " 'tommen',\n",
       " 'used',\n",
       " 'smell',\n",
       " 'less',\n",
       " 'being',\n",
       " 'foot',\n",
       " 'floor',\n",
       " 'squire',\n",
       " 'eddard',\n",
       " 'empty',\n",
       " 'run',\n",
       " 'followed',\n",
       " 'friends',\n",
       " 'serve',\n",
       " 'beard',\n",
       " 'boys',\n",
       " 'baratheon',\n",
       " 'cloaks',\n",
       " 'wedding',\n",
       " 'eat',\n",
       " 'wrong',\n",
       " 'daenerys',\n",
       " 'ghost',\n",
       " 'sight',\n",
       " 'flesh',\n",
       " 'five',\n",
       " 'hound',\n",
       " 'ship',\n",
       " 'strength',\n",
       " 'returned',\n",
       " 'bones',\n",
       " 'nose',\n",
       " 'crown',\n",
       " 'yellow',\n",
       " 'chest',\n",
       " 'covered',\n",
       " 'says',\n",
       " 'commanded',\n",
       " 'petyr',\n",
       " 'sometimes',\n",
       " 'filled',\n",
       " 'aemon',\n",
       " 'friend',\n",
       " 'led',\n",
       " 'aye',\n",
       " 'common',\n",
       " 'yours',\n",
       " 'flames',\n",
       " 'spoke',\n",
       " 'show',\n",
       " 'fighting',\n",
       " 'asha',\n",
       " 'huge',\n",
       " 'aside',\n",
       " 'lysa',\n",
       " 'crow',\n",
       " 'belly',\n",
       " 'master',\n",
       " 'breath',\n",
       " 'seem',\n",
       " 'yard',\n",
       " 'gates',\n",
       " 'waiting',\n",
       " 'within',\n",
       " 'looking',\n",
       " 'wet',\n",
       " 'wooden',\n",
       " 'realm',\n",
       " 'thin',\n",
       " 'work',\n",
       " 'bad',\n",
       " 'use',\n",
       " 'promised',\n",
       " 'later',\n",
       " 'tree',\n",
       " 'husband',\n",
       " 'grew',\n",
       " 'onto',\n",
       " 'wildlings',\n",
       " 'loved',\n",
       " 'afraid',\n",
       " 'girls',\n",
       " 'greyjoy',\n",
       " 'shoulders',\n",
       " 'rain',\n",
       " 'shouted',\n",
       " 'walked',\n",
       " 'maid',\n",
       " 'mance',\n",
       " 'remained',\n",
       " 'late',\n",
       " 'guard',\n",
       " 'littlefinger',\n",
       " 'meereen',\n",
       " 'liked',\n",
       " 'fall',\n",
       " 'year',\n",
       " 'margaery',\n",
       " 'dog',\n",
       " 'passed',\n",
       " 'hurt',\n",
       " 'balon',\n",
       " 'taste',\n",
       " 'dothraki',\n",
       " 'lay',\n",
       " 'drew',\n",
       " 'spear',\n",
       " 'song',\n",
       " 'realized',\n",
       " 'pushed',\n",
       " 'sure',\n",
       " 'named',\n",
       " 'reach',\n",
       " 'brave',\n",
       " 'stand',\n",
       " 'different',\n",
       " 'finally',\n",
       " 'whispered',\n",
       " 'wolves',\n",
       " 'suddenly',\n",
       " 'poor',\n",
       " 'kingsguard',\n",
       " 'drogo',\n",
       " 'stay',\n",
       " 'arryn',\n",
       " 'stop',\n",
       " 'kingdoms',\n",
       " 'broke',\n",
       " 'ears',\n",
       " 'edmure',\n",
       " 'princess',\n",
       " 'burning',\n",
       " 'faces',\n",
       " 'lannisters',\n",
       " 'dream',\n",
       " 'axe',\n",
       " 'direwolf',\n",
       " 'west',\n",
       " 'tears',\n",
       " 'heir',\n",
       " 'drink',\n",
       " 'clegane',\n",
       " 'darkness',\n",
       " 'either',\n",
       " 'pointed',\n",
       " 'raven',\n",
       " 'hill',\n",
       " 'try',\n",
       " 'forward',\n",
       " 'sworn',\n",
       " 'pain',\n",
       " 'khal',\n",
       " 'lie',\n",
       " 'dagger',\n",
       " 'truly',\n",
       " 'kings',\n",
       " 'seat',\n",
       " 'grown',\n",
       " 'born',\n",
       " 'road',\n",
       " 'harrenhal',\n",
       " 'care',\n",
       " 'bronn',\n",
       " 'round',\n",
       " 'helm',\n",
       " 'feast',\n",
       " 'understand',\n",
       " 'quick',\n",
       " 'pycelle',\n",
       " 'meat',\n",
       " 'amongst',\n",
       " 'lifted',\n",
       " 'longer',\n",
       " 'reminded',\n",
       " 'whilst',\n",
       " 'maybe',\n",
       " 'mountain',\n",
       " 'short',\n",
       " 'step',\n",
       " 'rodrik',\n",
       " 'pretty',\n",
       " 'melisandre',\n",
       " 'ones',\n",
       " 'third',\n",
       " 'bit',\n",
       " 'worse',\n",
       " 'stopped',\n",
       " 'lands',\n",
       " 'aegon',\n",
       " 'sit',\n",
       " 'victarion',\n",
       " 'save',\n",
       " 'sharp',\n",
       " 'knows',\n",
       " 'live',\n",
       " 'smoke',\n",
       " 'whose',\n",
       " 'pray',\n",
       " 'leg',\n",
       " 'window',\n",
       " 'horn',\n",
       " 'younger',\n",
       " 'westeros',\n",
       " 'didn',\n",
       " 'twenty',\n",
       " 'silk',\n",
       " 'heads',\n",
       " 'slaves',\n",
       " 'ago',\n",
       " 'septa',\n",
       " 'pie',\n",
       " 'peace',\n",
       " 'laugh',\n",
       " 'hizdahr',\n",
       " 'mind',\n",
       " 'low',\n",
       " 'bread',\n",
       " 'wants',\n",
       " 'east',\n",
       " 'blind',\n",
       " 'reek',\n",
       " 'mad',\n",
       " 'sooner',\n",
       " 'towers',\n",
       " 'bright',\n",
       " 'myself',\n",
       " 'coin',\n",
       " 'older',\n",
       " 'slain',\n",
       " 'camp',\n",
       " 'making',\n",
       " 'walk',\n",
       " 'drowned',\n",
       " 'served',\n",
       " 'narrow',\n",
       " 'salt',\n",
       " 'point',\n",
       " 'wait',\n",
       " 'glanced',\n",
       " 'cheeks',\n",
       " 'cousin',\n",
       " 'luwin',\n",
       " 'knife',\n",
       " 'targaryen',\n",
       " 'shook',\n",
       " 'touched',\n",
       " 'quiet',\n",
       " 'stepped',\n",
       " 'sort',\n",
       " 'often',\n",
       " 'riding',\n",
       " 'naked',\n",
       " 'twisted',\n",
       " 'loras',\n",
       " 'choice',\n",
       " 'during',\n",
       " 'lion',\n",
       " 'forgotten',\n",
       " 'silence',\n",
       " 'fish',\n",
       " 'kevan',\n",
       " 'ramsay',\n",
       " 'hung',\n",
       " 'read',\n",
       " 'gift',\n",
       " 'running',\n",
       " 'replied',\n",
       " 'fallen',\n",
       " 'large',\n",
       " 'knees',\n",
       " 'silent',\n",
       " 'fought',\n",
       " 'company',\n",
       " 'cat',\n",
       " 'ahead',\n",
       " 'sept',\n",
       " 'needs',\n",
       " 'beautiful',\n",
       " 'rhaegar',\n",
       " 'dogs',\n",
       " 'dawn',\n",
       " 'knee',\n",
       " 'pass',\n",
       " 'dorne',\n",
       " 'casterly',\n",
       " 'mud',\n",
       " 'themselves',\n",
       " 'tully',\n",
       " 'body',\n",
       " 'singer',\n",
       " 'gregor',\n",
       " 'court',\n",
       " 'stupid',\n",
       " 'age',\n",
       " 'meera',\n",
       " 'trying',\n",
       " 'top',\n",
       " 'swear',\n",
       " 'kind',\n",
       " 'offered',\n",
       " 'gendry',\n",
       " 'leaves',\n",
       " 'whole',\n",
       " 'clothes',\n",
       " 'closer',\n",
       " 'anything',\n",
       " 'kiss',\n",
       " 'whatever',\n",
       " 'threw',\n",
       " 'wonder',\n",
       " 'agreed',\n",
       " 'pay',\n",
       " 'answered',\n",
       " 'climbed',\n",
       " 'saying',\n",
       " 'saddle',\n",
       " 'wide',\n",
       " 'stars',\n",
       " 'comes',\n",
       " 'stones',\n",
       " 'chain',\n",
       " 'trust',\n",
       " 'host',\n",
       " 'fair',\n",
       " 'pleased',\n",
       " 'trident',\n",
       " 'yourself',\n",
       " 'yunkai',\n",
       " 'dry',\n",
       " 'hour',\n",
       " 'insisted',\n",
       " 'eight',\n",
       " 'spears',\n",
       " 'dying',\n",
       " 'ear',\n",
       " 'fast',\n",
       " 'carried',\n",
       " 'service',\n",
       " 'doors',\n",
       " 'ought',\n",
       " 'fist',\n",
       " 'woods',\n",
       " 'mail',\n",
       " 'council',\n",
       " 'wasn',\n",
       " 'fine',\n",
       " 'crossed',\n",
       " 'needed',\n",
       " 'join',\n",
       " 'thank',\n",
       " 'milk',\n",
       " 'wildling',\n",
       " 'quentyn',\n",
       " 'finger',\n",
       " 'gilly',\n",
       " 'shadows',\n",
       " 'doing',\n",
       " 'tent',\n",
       " 'win',\n",
       " 'bird',\n",
       " 'land',\n",
       " 'helped',\n",
       " 'boots',\n",
       " 'imp',\n",
       " 'crows',\n",
       " 'names',\n",
       " 'somehow',\n",
       " 'folk',\n",
       " 'kissed',\n",
       " 'winter',\n",
       " 'letter',\n",
       " 'banners',\n",
       " 'screamed',\n",
       " 'angry',\n",
       " 'pink',\n",
       " 'frightened',\n",
       " 'learn',\n",
       " 'alive',\n",
       " 'torch',\n",
       " 'chair',\n",
       " 'eunuch',\n",
       " 'watching',\n",
       " 'daughters',\n",
       " 'tarly',\n",
       " 'dragonstone',\n",
       " 'harm',\n",
       " 'fires',\n",
       " 'learned',\n",
       " 'standing',\n",
       " 'serving',\n",
       " 'easy',\n",
       " 'neither',\n",
       " 'nine',\n",
       " 'wings',\n",
       " 'question',\n",
       " 'drunk',\n",
       " 'sail',\n",
       " 'priest',\n",
       " 'sisters',\n",
       " 'myrcella',\n",
       " 'nodded',\n",
       " 'harbor',\n",
       " 'bone',\n",
       " 'forth',\n",
       " 'warned',\n",
       " 'giant',\n",
       " 'slow',\n",
       " 'field',\n",
       " 'slipped',\n",
       " 'slid',\n",
       " 'slowly',\n",
       " 'bronze',\n",
       " 'dreams',\n",
       " 'falling',\n",
       " 'atop',\n",
       " 'promise',\n",
       " 'rise',\n",
       " 'slave',\n",
       " 'illyrio',\n",
       " 'whore',\n",
       " 'line',\n",
       " 'move',\n",
       " 'flowers',\n",
       " 'pyke',\n",
       " 'makes',\n",
       " 'laughter',\n",
       " 'loose',\n",
       " 'earth',\n",
       " 'grass',\n",
       " 'faced',\n",
       " 'bay',\n",
       " 'declared',\n",
       " 'twice',\n",
       " 'front',\n",
       " 'lived',\n",
       " 'power',\n",
       " 'viserys',\n",
       " 'cell',\n",
       " 'happened',\n",
       " 'because',\n",
       " 'play',\n",
       " 'chains',\n",
       " 'break',\n",
       " 'dance',\n",
       " 'oldtown',\n",
       " 'surely',\n",
       " 'aerys',\n",
       " 'clean',\n",
       " 'claim',\n",
       " 'unless',\n",
       " 'jeyne',\n",
       " 'eyrie',\n",
       " 'cried',\n",
       " 'fresh',\n",
       " 'pair',\n",
       " 'tormund',\n",
       " 'craster',\n",
       " 'laid',\n",
       " 'quite',\n",
       " 'morrow',\n",
       " 'shouting',\n",
       " 'sad',\n",
       " 'game',\n",
       " 'met',\n",
       " 'already',\n",
       " 'rule',\n",
       " 'touch',\n",
       " 'softly',\n",
       " 'woke',\n",
       " 'steward',\n",
       " 'sense',\n",
       " 'afterward',\n",
       " 'count',\n",
       " 'started',\n",
       " 'mounted',\n",
       " 'waters',\n",
       " 'sudden',\n",
       " 'captive',\n",
       " 'hide',\n",
       " 'jojen',\n",
       " ...]"
      ]
     },
     "execution_count": 31,
     "metadata": {},
     "output_type": "execute_result"
    }
   ],
   "source": [
    "y"
   ]
  },
  {
   "cell_type": "code",
   "execution_count": 33,
   "id": "reasonable-stone",
   "metadata": {},
   "outputs": [],
   "source": [
    "from sklearn.decomposition import PCA"
   ]
  },
  {
   "cell_type": "code",
   "execution_count": 34,
   "id": "electrical-exception",
   "metadata": {},
   "outputs": [],
   "source": [
    "pca = PCA(n_components=3)"
   ]
  },
  {
   "cell_type": "code",
   "execution_count": 35,
   "id": "native-donna",
   "metadata": {},
   "outputs": [],
   "source": [
    "X= pca.fit_transform(model.wv.get_normed_vectors())"
   ]
  },
  {
   "cell_type": "code",
   "execution_count": 36,
   "id": "surface-storm",
   "metadata": {},
   "outputs": [
    {
     "data": {
      "text/plain": [
       "array([[-0.1617343 ,  0.59747934, -0.04863996],\n",
       "       [-0.19214323,  0.34276286,  0.03974392],\n",
       "       [ 0.30389592,  0.5709769 ,  0.21592295],\n",
       "       [-0.01224939,  0.37619403, -0.12689435],\n",
       "       [ 0.13218124,  0.54039   ,  0.26284385]], dtype=float32)"
      ]
     },
     "execution_count": 36,
     "metadata": {},
     "output_type": "execute_result"
    }
   ],
   "source": [
    "X[:5]"
   ]
  },
  {
   "cell_type": "code",
   "execution_count": 37,
   "id": "second-elizabeth",
   "metadata": {},
   "outputs": [
    {
     "data": {
      "text/plain": [
       "(17453, 3)"
      ]
     },
     "execution_count": 37,
     "metadata": {},
     "output_type": "execute_result"
    }
   ],
   "source": [
    "X.shape"
   ]
  },
  {
   "cell_type": "code",
   "execution_count": 41,
   "id": "surgical-seattle",
   "metadata": {},
   "outputs": [
    {
     "data": {
      "application/vnd.plotly.v1+json": {
       "config": {
        "plotlyServerURL": "https://plot.ly"
       },
       "data": [
        {
         "hovertemplate": "color=hands<br>0=%{x}<br>1=%{y}<br>2=%{z}<extra></extra>",
         "legendgroup": "hands",
         "marker": {
          "color": "#636efa",
          "symbol": "circle"
         },
         "mode": "markers",
         "name": "hands",
         "scene": "scene",
         "showlegend": true,
         "type": "scatter3d",
         "x": [
          -0.2866871953010559
         ],
         "y": [
          0.45601871609687805
         ],
         "z": [
          0.39671289920806885
         ]
        },
        {
         "hovertemplate": "color=stannis<br>0=%{x}<br>1=%{y}<br>2=%{z}<extra></extra>",
         "legendgroup": "stannis",
         "marker": {
          "color": "#EF553B",
          "symbol": "circle"
         },
         "mode": "markers",
         "name": "stannis",
         "scene": "scene",
         "showlegend": true,
         "type": "scatter3d",
         "x": [
          0.40317434072494507
         ],
         "y": [
          0.5946080088615417
         ],
         "z": [
          -0.05447414517402649
         ]
        },
        {
         "hovertemplate": "color=mother<br>0=%{x}<br>1=%{y}<br>2=%{z}<extra></extra>",
         "legendgroup": "mother",
         "marker": {
          "color": "#00cc96",
          "symbol": "circle"
         },
         "mode": "markers",
         "name": "mother",
         "scene": "scene",
         "showlegend": true,
         "type": "scatter3d",
         "x": [
          0.46345603466033936
         ],
         "y": [
          0.48152199387550354
         ],
         "z": [
          0.12789234519004822
         ]
        },
        {
         "hovertemplate": "color=catelyn<br>0=%{x}<br>1=%{y}<br>2=%{z}<extra></extra>",
         "legendgroup": "catelyn",
         "marker": {
          "color": "#ab63fa",
          "symbol": "circle"
         },
         "mode": "markers",
         "name": "catelyn",
         "scene": "scene",
         "showlegend": true,
         "type": "scatter3d",
         "x": [
          0.24138648808002472
         ],
         "y": [
          0.3412677049636841
         ],
         "z": [
          0.1859302669763565
         ]
        },
        {
         "hovertemplate": "color=robert<br>0=%{x}<br>1=%{y}<br>2=%{z}<extra></extra>",
         "legendgroup": "robert",
         "marker": {
          "color": "#FFA15A",
          "symbol": "circle"
         },
         "mode": "markers",
         "name": "robert",
         "scene": "scene",
         "showlegend": true,
         "type": "scatter3d",
         "x": [
          0.5130556225776672
         ],
         "y": [
          0.4325936436653137
         ],
         "z": [
          0.09745123982429504
         ]
        },
        {
         "hovertemplate": "color=seemed<br>0=%{x}<br>1=%{y}<br>2=%{z}<extra></extra>",
         "legendgroup": "seemed",
         "marker": {
          "color": "#19d3f3",
          "symbol": "circle"
         },
         "mode": "markers",
         "name": "seemed",
         "scene": "scene",
         "showlegend": true,
         "type": "scatter3d",
         "x": [
          0.024137843400239944
         ],
         "y": [
          0.43028515577316284
         ],
         "z": [
          0.28594857454299927
         ]
        },
        {
         "hovertemplate": "color=prince<br>0=%{x}<br>1=%{y}<br>2=%{z}<extra></extra>",
         "legendgroup": "prince",
         "marker": {
          "color": "#FF6692",
          "symbol": "circle"
         },
         "mode": "markers",
         "name": "prince",
         "scene": "scene",
         "showlegend": true,
         "type": "scatter3d",
         "x": [
          0.523842453956604
         ],
         "y": [
          0.43171584606170654
         ],
         "z": [
          0.1275116354227066
         ]
        },
        {
         "hovertemplate": "color=may<br>0=%{x}<br>1=%{y}<br>2=%{z}<extra></extra>",
         "legendgroup": "may",
         "marker": {
          "color": "#B6E880",
          "symbol": "circle"
         },
         "mode": "markers",
         "name": "may",
         "scene": "scene",
         "showlegend": true,
         "type": "scatter3d",
         "x": [
          0.5497362613677979
         ],
         "y": [
          0.4725663959980011
         ],
         "z": [
          0.1338309496641159
         ]
        },
        {
         "hovertemplate": "color=ever<br>0=%{x}<br>1=%{y}<br>2=%{z}<extra></extra>",
         "legendgroup": "ever",
         "marker": {
          "color": "#FF97FF",
          "symbol": "circle"
         },
         "mode": "markers",
         "name": "ever",
         "scene": "scene",
         "showlegend": true,
         "type": "scatter3d",
         "x": [
          0.4356233477592468
         ],
         "y": [
          0.48018214106559753
         ],
         "z": [
          0.08138957619667053
         ]
        },
        {
         "hovertemplate": "color=robb<br>0=%{x}<br>1=%{y}<br>2=%{z}<extra></extra>",
         "legendgroup": "robb",
         "marker": {
          "color": "#FECB52",
          "symbol": "circle"
         },
         "mode": "markers",
         "name": "robb",
         "scene": "scene",
         "showlegend": true,
         "type": "scatter3d",
         "x": [
          0.39167463779449463
         ],
         "y": [
          0.4688773453235626
         ],
         "z": [
          0.19631589949131012
         ]
        },
        {
         "hovertemplate": "color=done<br>0=%{x}<br>1=%{y}<br>2=%{z}<extra></extra>",
         "legendgroup": "done",
         "marker": {
          "color": "#636efa",
          "symbol": "circle"
         },
         "mode": "markers",
         "name": "done",
         "scene": "scene",
         "showlegend": true,
         "type": "scatter3d",
         "x": [
          0.450316458940506
         ],
         "y": [
          0.5829903483390808
         ],
         "z": [
          0.24486631155014038
         ]
        },
        {
         "hovertemplate": "color=don<br>0=%{x}<br>1=%{y}<br>2=%{z}<extra></extra>",
         "legendgroup": "don",
         "marker": {
          "color": "#EF553B",
          "symbol": "circle"
         },
         "mode": "markers",
         "name": "don",
         "scene": "scene",
         "showlegend": true,
         "type": "scatter3d",
         "x": [
          0.4574142396450043
         ],
         "y": [
          0.36247313022613525
         ],
         "z": [
          0.3343662619590759
         ]
        },
        {
         "hovertemplate": "color=find<br>0=%{x}<br>1=%{y}<br>2=%{z}<extra></extra>",
         "legendgroup": "find",
         "marker": {
          "color": "#00cc96",
          "symbol": "circle"
         },
         "mode": "markers",
         "name": "find",
         "scene": "scene",
         "showlegend": true,
         "type": "scatter3d",
         "x": [
          0.3868741989135742
         ],
         "y": [
          0.6337139010429382
         ],
         "z": [
          0.35841643810272217
         ]
        },
        {
         "hovertemplate": "color=lannister<br>0=%{x}<br>1=%{y}<br>2=%{z}<extra></extra>",
         "legendgroup": "lannister",
         "marker": {
          "color": "#ab63fa",
          "symbol": "circle"
         },
         "mode": "markers",
         "name": "lannister",
         "scene": "scene",
         "showlegend": true,
         "type": "scatter3d",
         "x": [
          0.3777656853199005
         ],
         "y": [
          0.4276695251464844
         ],
         "z": [
          0.08982288092374802
         ]
        },
        {
         "hovertemplate": "color=re<br>0=%{x}<br>1=%{y}<br>2=%{z}<extra></extra>",
         "legendgroup": "re",
         "marker": {
          "color": "#FFA15A",
          "symbol": "circle"
         },
         "mode": "markers",
         "name": "re",
         "scene": "scene",
         "showlegend": true,
         "type": "scatter3d",
         "x": [
          0.3824816048145294
         ],
         "y": [
          0.46664172410964966
         ],
         "z": [
          0.25876569747924805
         ]
        },
        {
         "hovertemplate": "color=hear<br>0=%{x}<br>1=%{y}<br>2=%{z}<extra></extra>",
         "legendgroup": "hear",
         "marker": {
          "color": "#19d3f3",
          "symbol": "circle"
         },
         "mode": "markers",
         "name": "hear",
         "scene": "scene",
         "showlegend": true,
         "type": "scatter3d",
         "x": [
          0.18946920335292816
         ],
         "y": [
          0.5261832475662231
         ],
         "z": [
          0.426797479391098
         ]
        },
        {
         "hovertemplate": "color=grey<br>0=%{x}<br>1=%{y}<br>2=%{z}<extra></extra>",
         "legendgroup": "grey",
         "marker": {
          "color": "#FF6692",
          "symbol": "circle"
         },
         "mode": "markers",
         "name": "grey",
         "scene": "scene",
         "showlegend": true,
         "type": "scatter3d",
         "x": [
          -0.46159490942955017
         ],
         "y": [
          0.2372104823589325
         ],
         "z": [
          0.019729921594262123
         ]
        },
        {
         "hovertemplate": "color=name<br>0=%{x}<br>1=%{y}<br>2=%{z}<extra></extra>",
         "legendgroup": "name",
         "marker": {
          "color": "#B6E880",
          "symbol": "circle"
         },
         "mode": "markers",
         "name": "name",
         "scene": "scene",
         "showlegend": true,
         "type": "scatter3d",
         "x": [
          0.5809237360954285
         ],
         "y": [
          0.5757064819335938
         ],
         "z": [
          0.1956397145986557
         ]
        },
        {
         "hovertemplate": "color=horse<br>0=%{x}<br>1=%{y}<br>2=%{z}<extra></extra>",
         "legendgroup": "horse",
         "marker": {
          "color": "#FF97FF",
          "symbol": "circle"
         },
         "mode": "markers",
         "name": "horse",
         "scene": "scene",
         "showlegend": true,
         "type": "scatter3d",
         "x": [
          -0.3291758596897125
         ],
         "y": [
          0.5346190333366394
         ],
         "z": [
          0.324786901473999
         ]
        },
        {
         "hovertemplate": "color=high<br>0=%{x}<br>1=%{y}<br>2=%{z}<extra></extra>",
         "legendgroup": "high",
         "marker": {
          "color": "#FECB52",
          "symbol": "circle"
         },
         "mode": "markers",
         "name": "high",
         "scene": "scene",
         "showlegend": true,
         "type": "scatter3d",
         "x": [
          -0.17712625861167908
         ],
         "y": [
          0.4487155079841614
         ],
         "z": [
          -0.1853649616241455
         ]
        },
        {
         "hovertemplate": "color=put<br>0=%{x}<br>1=%{y}<br>2=%{z}<extra></extra>",
         "legendgroup": "put",
         "marker": {
          "color": "#636efa",
          "symbol": "circle"
         },
         "mode": "markers",
         "name": "put",
         "scene": "scene",
         "showlegend": true,
         "type": "scatter3d",
         "x": [
          0.23029501736164093
         ],
         "y": [
          0.5269741415977478
         ],
         "z": [
          0.5997484922409058
         ]
        },
        {
         "hovertemplate": "color=stone<br>0=%{x}<br>1=%{y}<br>2=%{z}<extra></extra>",
         "legendgroup": "stone",
         "marker": {
          "color": "#EF553B",
          "symbol": "circle"
         },
         "mode": "markers",
         "name": "stone",
         "scene": "scene",
         "showlegend": true,
         "type": "scatter3d",
         "x": [
          -0.6466690301895142
         ],
         "y": [
          0.4895620346069336
         ],
         "z": [
          -0.11814118176698685
         ]
        },
        {
         "hovertemplate": "color=wine<br>0=%{x}<br>1=%{y}<br>2=%{z}<extra></extra>",
         "legendgroup": "wine",
         "marker": {
          "color": "#00cc96",
          "symbol": "circle"
         },
         "mode": "markers",
         "name": "wine",
         "scene": "scene",
         "showlegend": true,
         "type": "scatter3d",
         "x": [
          -0.07062780112028122
         ],
         "y": [
          0.29317083954811096
         ],
         "z": [
          0.34118714928627014
         ]
        },
        {
         "hovertemplate": "color=hard<br>0=%{x}<br>1=%{y}<br>2=%{z}<extra></extra>",
         "legendgroup": "hard",
         "marker": {
          "color": "#ab63fa",
          "symbol": "circle"
         },
         "mode": "markers",
         "name": "hard",
         "scene": "scene",
         "showlegend": true,
         "type": "scatter3d",
         "x": [
          -0.3221249282360077
         ],
         "y": [
          0.33148619532585144
         ],
         "z": [
          0.36586883664131165
         ]
        },
        {
         "hovertemplate": "color=water<br>0=%{x}<br>1=%{y}<br>2=%{z}<extra></extra>",
         "legendgroup": "water",
         "marker": {
          "color": "#FFA15A",
          "symbol": "circle"
         },
         "mode": "markers",
         "name": "water",
         "scene": "scene",
         "showlegend": true,
         "type": "scatter3d",
         "x": [
          -0.549229085445404
         ],
         "y": [
          0.5038744807243347
         ],
         "z": [
          0.183767169713974
         ]
        },
        {
         "hovertemplate": "color=upon<br>0=%{x}<br>1=%{y}<br>2=%{z}<extra></extra>",
         "legendgroup": "upon",
         "marker": {
          "color": "#19d3f3",
          "symbol": "circle"
         },
         "mode": "markers",
         "name": "upon",
         "scene": "scene",
         "showlegend": true,
         "type": "scatter3d",
         "x": [
          -0.12769649922847748
         ],
         "y": [
          0.43422362208366394
         ],
         "z": [
          0.13773520290851593
         ]
        },
        {
         "hovertemplate": "color=fire<br>0=%{x}<br>1=%{y}<br>2=%{z}<extra></extra>",
         "legendgroup": "fire",
         "marker": {
          "color": "#FF6692",
          "symbol": "circle"
         },
         "mode": "markers",
         "name": "fire",
         "scene": "scene",
         "showlegend": true,
         "type": "scatter3d",
         "x": [
          -0.47096458077430725
         ],
         "y": [
          0.6600303649902344
         ],
         "z": [
          0.005520774517208338
         ]
        },
        {
         "hovertemplate": "color=iron<br>0=%{x}<br>1=%{y}<br>2=%{z}<extra></extra>",
         "legendgroup": "iron",
         "marker": {
          "color": "#B6E880",
          "symbol": "circle"
         },
         "mode": "markers",
         "name": "iron",
         "scene": "scene",
         "showlegend": true,
         "type": "scatter3d",
         "x": [
          -0.2025819569826126
         ],
         "y": [
          0.48838016390800476
         ],
         "z": [
          -0.16005679965019226
         ]
        },
        {
         "hovertemplate": "color=until<br>0=%{x}<br>1=%{y}<br>2=%{z}<extra></extra>",
         "legendgroup": "until",
         "marker": {
          "color": "#FF97FF",
          "symbol": "circle"
         },
         "mode": "markers",
         "name": "until",
         "scene": "scene",
         "showlegend": true,
         "type": "scatter3d",
         "x": [
          -0.12065070122480392
         ],
         "y": [
          0.6138162612915039
         ],
         "z": [
          0.3693575859069824
         ]
        },
        {
         "hovertemplate": "color=these<br>0=%{x}<br>1=%{y}<br>2=%{z}<extra></extra>",
         "legendgroup": "these",
         "marker": {
          "color": "#FECB52",
          "symbol": "circle"
         },
         "mode": "markers",
         "name": "these",
         "scene": "scene",
         "showlegend": true,
         "type": "scatter3d",
         "x": [
          0.41737100481987
         ],
         "y": [
          0.6200282573699951
         ],
         "z": [
          -0.41340526938438416
         ]
        },
        {
         "hovertemplate": "color=voice<br>0=%{x}<br>1=%{y}<br>2=%{z}<extra></extra>",
         "legendgroup": "voice",
         "marker": {
          "color": "#636efa",
          "symbol": "circle"
         },
         "mode": "markers",
         "name": "voice",
         "scene": "scene",
         "showlegend": true,
         "type": "scatter3d",
         "x": [
          0.020716818049550056
         ],
         "y": [
          0.29921555519104004
         ],
         "z": [
          0.4043353796005249
         ]
        },
        {
         "hovertemplate": "color=gone<br>0=%{x}<br>1=%{y}<br>2=%{z}<extra></extra>",
         "legendgroup": "gone",
         "marker": {
          "color": "#EF553B",
          "symbol": "circle"
         },
         "mode": "markers",
         "name": "gone",
         "scene": "scene",
         "showlegend": true,
         "type": "scatter3d",
         "x": [
          0.05339235067367554
         ],
         "y": [
          0.5611169934272766
         ],
         "z": [
          0.30782291293144226
         ]
        },
        {
         "hovertemplate": "color=give<br>0=%{x}<br>1=%{y}<br>2=%{z}<extra></extra>",
         "legendgroup": "give",
         "marker": {
          "color": "#00cc96",
          "symbol": "circle"
         },
         "mode": "markers",
         "name": "give",
         "scene": "scene",
         "showlegend": true,
         "type": "scatter3d",
         "x": [
          0.6000593900680542
         ],
         "y": [
          0.4972163438796997
         ],
         "z": [
          0.3927886486053467
         ]
        },
        {
         "hovertemplate": "color=sam<br>0=%{x}<br>1=%{y}<br>2=%{z}<extra></extra>",
         "legendgroup": "sam",
         "marker": {
          "color": "#ab63fa",
          "symbol": "circle"
         },
         "mode": "markers",
         "name": "sam",
         "scene": "scene",
         "showlegend": true,
         "type": "scatter3d",
         "x": [
          -0.013580077327787876
         ],
         "y": [
          0.34166833758354187
         ],
         "z": [
          0.3621586263179779
         ]
        },
        {
         "hovertemplate": "color=seen<br>0=%{x}<br>1=%{y}<br>2=%{z}<extra></extra>",
         "legendgroup": "seen",
         "marker": {
          "color": "#FFA15A",
          "symbol": "circle"
         },
         "mode": "markers",
         "name": "seen",
         "scene": "scene",
         "showlegend": true,
         "type": "scatter3d",
         "x": [
          0.12024080753326416
         ],
         "y": [
          0.5888029932975769
         ],
         "z": [
          0.20703977346420288
         ]
        },
        {
         "hovertemplate": "color=better<br>0=%{x}<br>1=%{y}<br>2=%{z}<extra></extra>",
         "legendgroup": "better",
         "marker": {
          "color": "#19d3f3",
          "symbol": "circle"
         },
         "mode": "markers",
         "name": "better",
         "scene": "scene",
         "showlegend": true,
         "type": "scatter3d",
         "x": [
          0.4757804870605469
         ],
         "y": [
          0.4616885483264923
         ],
         "z": [
          0.11285857111215591
         ]
        },
        {
         "hovertemplate": "color=shall<br>0=%{x}<br>1=%{y}<br>2=%{z}<extra></extra>",
         "legendgroup": "shall",
         "marker": {
          "color": "#FF6692",
          "symbol": "circle"
         },
         "mode": "markers",
         "name": "shall",
         "scene": "scene",
         "showlegend": true,
         "type": "scatter3d",
         "x": [
          0.5154423713684082
         ],
         "y": [
          0.5381674766540527
         ],
         "z": [
          0.08978952467441559
         ]
        },
        {
         "hovertemplate": "color=ned<br>0=%{x}<br>1=%{y}<br>2=%{z}<extra></extra>",
         "legendgroup": "ned",
         "marker": {
          "color": "#B6E880",
          "symbol": "circle"
         },
         "mode": "markers",
         "name": "ned",
         "scene": "scene",
         "showlegend": true,
         "type": "scatter3d",
         "x": [
          0.25858160853385925
         ],
         "y": [
          0.3669799566268921
         ],
         "z": [
          0.26243507862091064
         ]
        },
        {
         "hovertemplate": "color=always<br>0=%{x}<br>1=%{y}<br>2=%{z}<extra></extra>",
         "legendgroup": "always",
         "marker": {
          "color": "#FF97FF",
          "symbol": "circle"
         },
         "mode": "markers",
         "name": "always",
         "scene": "scene",
         "showlegend": true,
         "type": "scatter3d",
         "x": [
          0.4710236191749573
         ],
         "y": [
          0.4052738845348358
         ],
         "z": [
          0.08644446730613708
         ]
        },
        {
         "hovertemplate": "color=years<br>0=%{x}<br>1=%{y}<br>2=%{z}<extra></extra>",
         "legendgroup": "years",
         "marker": {
          "color": "#FECB52",
          "symbol": "circle"
         },
         "mode": "markers",
         "name": "years",
         "scene": "scene",
         "showlegend": true,
         "type": "scatter3d",
         "x": [
          0.28620222210884094
         ],
         "y": [
          0.583984375
         ],
         "z": [
          -0.1684189885854721
         ]
        },
        {
         "hovertemplate": "color=between<br>0=%{x}<br>1=%{y}<br>2=%{z}<extra></extra>",
         "legendgroup": "between",
         "marker": {
          "color": "#636efa",
          "symbol": "circle"
         },
         "mode": "markers",
         "name": "between",
         "scene": "scene",
         "showlegend": true,
         "type": "scatter3d",
         "x": [
          -0.3820306062698364
         ],
         "y": [
          0.32818707823753357
         ],
         "z": [
          0.26929742097854614
         ]
        },
        {
         "hovertemplate": "color=dark<br>0=%{x}<br>1=%{y}<br>2=%{z}<extra></extra>",
         "legendgroup": "dark",
         "marker": {
          "color": "#EF553B",
          "symbol": "circle"
         },
         "mode": "markers",
         "name": "dark",
         "scene": "scene",
         "showlegend": true,
         "type": "scatter3d",
         "x": [
          -0.5005609393119812
         ],
         "y": [
          0.42422032356262207
         ],
         "z": [
          0.007420238573104143
         ]
        },
        {
         "hovertemplate": "color=place<br>0=%{x}<br>1=%{y}<br>2=%{z}<extra></extra>",
         "legendgroup": "place",
         "marker": {
          "color": "#00cc96",
          "symbol": "circle"
         },
         "mode": "markers",
         "name": "place",
         "scene": "scene",
         "showlegend": true,
         "type": "scatter3d",
         "x": [
          0.22585788369178772
         ],
         "y": [
          0.809872567653656
         ],
         "z": [
          -0.013404592871665955
         ]
        },
        {
         "hovertemplate": "color=small<br>0=%{x}<br>1=%{y}<br>2=%{z}<extra></extra>",
         "legendgroup": "small",
         "marker": {
          "color": "#ab63fa",
          "symbol": "circle"
         },
         "mode": "markers",
         "name": "small",
         "scene": "scene",
         "showlegend": true,
         "type": "scatter3d",
         "x": [
          -0.25006479024887085
         ],
         "y": [
          0.3431421220302582
         ],
         "z": [
          -0.1717502623796463
         ]
        },
        {
         "hovertemplate": "color=cold<br>0=%{x}<br>1=%{y}<br>2=%{z}<extra></extra>",
         "legendgroup": "cold",
         "marker": {
          "color": "#FFA15A",
          "symbol": "circle"
         },
         "mode": "markers",
         "name": "cold",
         "scene": "scene",
         "showlegend": true,
         "type": "scatter3d",
         "x": [
          -0.3477244973182678
         ],
         "y": [
          0.47434648871421814
         ],
         "z": [
          0.21775801479816437
         ]
        },
        {
         "hovertemplate": "color=winterfell<br>0=%{x}<br>1=%{y}<br>2=%{z}<extra></extra>",
         "legendgroup": "winterfell",
         "marker": {
          "color": "#19d3f3",
          "symbol": "circle"
         },
         "mode": "markers",
         "name": "winterfell",
         "scene": "scene",
         "showlegend": true,
         "type": "scatter3d",
         "x": [
          0.3150293827056885
         ],
         "y": [
          0.6859230399131775
         ],
         "z": [
          -0.011213477700948715
         ]
        },
        {
         "hovertemplate": "color=most<br>0=%{x}<br>1=%{y}<br>2=%{z}<extra></extra>",
         "legendgroup": "most",
         "marker": {
          "color": "#FF6692",
          "symbol": "circle"
         },
         "mode": "markers",
         "name": "most",
         "scene": "scene",
         "showlegend": true,
         "type": "scatter3d",
         "x": [
          0.4126321077346802
         ],
         "y": [
          0.5585652589797974
         ],
         "z": [
          -0.3276742100715637
         ]
        },
        {
         "hovertemplate": "color=hundred<br>0=%{x}<br>1=%{y}<br>2=%{z}<extra></extra>",
         "legendgroup": "hundred",
         "marker": {
          "color": "#B6E880",
          "symbol": "circle"
         },
         "mode": "markers",
         "name": "hundred",
         "scene": "scene",
         "showlegend": true,
         "type": "scatter3d",
         "x": [
          -0.01688048243522644
         ],
         "y": [
          0.5685030817985535
         ],
         "z": [
          -0.38214147090911865
         ]
        },
        {
         "hovertemplate": "color=stood<br>0=%{x}<br>1=%{y}<br>2=%{z}<extra></extra>",
         "legendgroup": "stood",
         "marker": {
          "color": "#FF97FF",
          "symbol": "circle"
         },
         "mode": "markers",
         "name": "stood",
         "scene": "scene",
         "showlegend": true,
         "type": "scatter3d",
         "x": [
          -0.31106510758399963
         ],
         "y": [
          0.41499489545822144
         ],
         "z": [
          0.21325628459453583
         ]
        },
        {
         "hovertemplate": "color=end<br>0=%{x}<br>1=%{y}<br>2=%{z}<extra></extra>",
         "legendgroup": "end",
         "marker": {
          "color": "#FECB52",
          "symbol": "circle"
         },
         "mode": "markers",
         "name": "end",
         "scene": "scene",
         "showlegend": true,
         "type": "scatter3d",
         "x": [
          0.08479105681180954
         ],
         "y": [
          0.7517678141593933
         ],
         "z": [
          0.0531790666282177
         ]
        },
        {
         "hovertemplate": "color=sister<br>0=%{x}<br>1=%{y}<br>2=%{z}<extra></extra>",
         "legendgroup": "sister",
         "marker": {
          "color": "#636efa",
          "symbol": "circle"
         },
         "mode": "markers",
         "name": "sister",
         "scene": "scene",
         "showlegend": true,
         "type": "scatter3d",
         "x": [
          0.5805913209915161
         ],
         "y": [
          0.4240042269229889
         ],
         "z": [
          0.2585010230541229
         ]
        },
        {
         "hovertemplate": "color=words<br>0=%{x}<br>1=%{y}<br>2=%{z}<extra></extra>",
         "legendgroup": "words",
         "marker": {
          "color": "#EF553B",
          "symbol": "circle"
         },
         "mode": "markers",
         "name": "words",
         "scene": "scene",
         "showlegend": true,
         "type": "scatter3d",
         "x": [
          0.2755928337574005
         ],
         "y": [
          0.4811205565929413
         ],
         "z": [
          0.24814870953559875
         ]
        },
        {
         "hovertemplate": "color=sea<br>0=%{x}<br>1=%{y}<br>2=%{z}<extra></extra>",
         "legendgroup": "sea",
         "marker": {
          "color": "#00cc96",
          "symbol": "circle"
         },
         "mode": "markers",
         "name": "sea",
         "scene": "scene",
         "showlegend": true,
         "type": "scatter3d",
         "x": [
          -0.1327548772096634
         ],
         "y": [
          0.755607008934021
         ],
         "z": [
          -0.33058962225914
         ]
        },
        {
         "hovertemplate": "color=right<br>0=%{x}<br>1=%{y}<br>2=%{z}<extra></extra>",
         "legendgroup": "right",
         "marker": {
          "color": "#ab63fa",
          "symbol": "circle"
         },
         "mode": "markers",
         "name": "right",
         "scene": "scene",
         "showlegend": true,
         "type": "scatter3d",
         "x": [
          -0.0877329558134079
         ],
         "y": [
          0.5279330015182495
         ],
         "z": [
          0.41792142391204834
         ]
        },
        {
         "hovertemplate": "color=nothing<br>0=%{x}<br>1=%{y}<br>2=%{z}<extra></extra>",
         "legendgroup": "nothing",
         "marker": {
          "color": "#FFA15A",
          "symbol": "circle"
         },
         "mode": "markers",
         "name": "nothing",
         "scene": "scene",
         "showlegend": true,
         "type": "scatter3d",
         "x": [
          0.27924075722694397
         ],
         "y": [
          0.5058612823486328
         ],
         "z": [
          0.08358430117368698
         ]
        },
        {
         "hovertemplate": "color=walls<br>0=%{x}<br>1=%{y}<br>2=%{z}<extra></extra>",
         "legendgroup": "walls",
         "marker": {
          "color": "#19d3f3",
          "symbol": "circle"
         },
         "mode": "markers",
         "name": "walls",
         "scene": "scene",
         "showlegend": true,
         "type": "scatter3d",
         "x": [
          -0.42237359285354614
         ],
         "y": [
          0.7206674814224243
         ],
         "z": [
          -0.32111111283302307
         ]
        },
        {
         "hovertemplate": "color=fingers<br>0=%{x}<br>1=%{y}<br>2=%{z}<extra></extra>",
         "legendgroup": "fingers",
         "marker": {
          "color": "#FF6692",
          "symbol": "circle"
         },
         "mode": "markers",
         "name": "fingers",
         "scene": "scene",
         "showlegend": true,
         "type": "scatter3d",
         "x": [
          -0.48315533995628357
         ],
         "y": [
          0.35472381114959717
         ],
         "z": [
          0.5062923431396484
         ]
        },
        {
         "hovertemplate": "color=same<br>0=%{x}<br>1=%{y}<br>2=%{z}<extra></extra>",
         "legendgroup": "same",
         "marker": {
          "color": "#B6E880",
          "symbol": "circle"
         },
         "mode": "markers",
         "name": "same",
         "scene": "scene",
         "showlegend": true,
         "type": "scatter3d",
         "x": [
          0.2631358802318573
         ],
         "y": [
          0.5345859527587891
         ],
         "z": [
          0.11238010972738266
         ]
        },
        {
         "hovertemplate": "color=cloak<br>0=%{x}<br>1=%{y}<br>2=%{z}<extra></extra>",
         "legendgroup": "cloak",
         "marker": {
          "color": "#FF97FF",
          "symbol": "circle"
         },
         "mode": "markers",
         "name": "cloak",
         "scene": "scene",
         "showlegend": true,
         "type": "scatter3d",
         "x": [
          -0.40561896562576294
         ],
         "y": [
          0.30275437235832214
         ],
         "z": [
          0.3226776421070099
         ]
        },
        {
         "hovertemplate": "color=house<br>0=%{x}<br>1=%{y}<br>2=%{z}<extra></extra>",
         "legendgroup": "house",
         "marker": {
          "color": "#FECB52",
          "symbol": "circle"
         },
         "mode": "markers",
         "name": "house",
         "scene": "scene",
         "showlegend": true,
         "type": "scatter3d",
         "x": [
          0.30473819375038147
         ],
         "y": [
          0.4209236800670624
         ],
         "z": [
          -0.1729515790939331
         ]
        },
        {
         "hovertemplate": "color=young<br>0=%{x}<br>1=%{y}<br>2=%{z}<extra></extra>",
         "legendgroup": "young",
         "marker": {
          "color": "#636efa",
          "symbol": "circle"
         },
         "mode": "markers",
         "name": "young",
         "scene": "scene",
         "showlegend": true,
         "type": "scatter3d",
         "x": [
          0.44679272174835205
         ],
         "y": [
          0.2601606249809265
         ],
         "z": [
          0.018952438607811928
         ]
        },
        {
         "hovertemplate": "color=does<br>0=%{x}<br>1=%{y}<br>2=%{z}<extra></extra>",
         "legendgroup": "does",
         "marker": {
          "color": "#EF553B",
          "symbol": "circle"
         },
         "mode": "markers",
         "name": "does",
         "scene": "scene",
         "showlegend": true,
         "type": "scatter3d",
         "x": [
          0.63957679271698
         ],
         "y": [
          0.37272387742996216
         ],
         "z": [
          0.2518191635608673
         ]
        },
        {
         "hovertemplate": "color=beside<br>0=%{x}<br>1=%{y}<br>2=%{z}<extra></extra>",
         "legendgroup": "beside",
         "marker": {
          "color": "#00cc96",
          "symbol": "circle"
         },
         "mode": "markers",
         "name": "beside",
         "scene": "scene",
         "showlegend": true,
         "type": "scatter3d",
         "x": [
          -0.2666087746620178
         ],
         "y": [
          0.3539370000362396
         ],
         "z": [
          0.4226491153240204
         ]
        },
        {
         "hovertemplate": "color=get<br>0=%{x}<br>1=%{y}<br>2=%{z}<extra></extra>",
         "legendgroup": "get",
         "marker": {
          "color": "#ab63fa",
          "symbol": "circle"
         },
         "mode": "markers",
         "name": "get",
         "scene": "scene",
         "showlegend": true,
         "type": "scatter3d",
         "x": [
          0.20894886553287506
         ],
         "y": [
          0.6567362546920776
         ],
         "z": [
          0.4376538097858429
         ]
        },
        {
         "hovertemplate": "color=mouth<br>0=%{x}<br>1=%{y}<br>2=%{z}<extra></extra>",
         "legendgroup": "mouth",
         "marker": {
          "color": "#FFA15A",
          "symbol": "circle"
         },
         "mode": "markers",
         "name": "mouth",
         "scene": "scene",
         "showlegend": true,
         "type": "scatter3d",
         "x": [
          -0.31156566739082336
         ],
         "y": [
          0.34951213002204895
         ],
         "z": [
          0.541127622127533
         ]
        },
        {
         "hovertemplate": "color=seven<br>0=%{x}<br>1=%{y}<br>2=%{z}<extra></extra>",
         "legendgroup": "seven",
         "marker": {
          "color": "#19d3f3",
          "symbol": "circle"
         },
         "mode": "markers",
         "name": "seven",
         "scene": "scene",
         "showlegend": true,
         "type": "scatter3d",
         "x": [
          0.31612545251846313
         ],
         "y": [
          0.671062707901001
         ],
         "z": [
          -0.4756007194519043
         ]
        },
        {
         "hovertemplate": "color=watch<br>0=%{x}<br>1=%{y}<br>2=%{z}<extra></extra>",
         "legendgroup": "watch",
         "marker": {
          "color": "#FF6692",
          "symbol": "circle"
         },
         "mode": "markers",
         "name": "watch",
         "scene": "scene",
         "showlegend": true,
         "type": "scatter3d",
         "x": [
          0.3389427363872528
         ],
         "y": [
          0.6184173822402954
         ],
         "z": [
          -0.07057064771652222
         ]
        },
        {
         "hovertemplate": "color=door<br>0=%{x}<br>1=%{y}<br>2=%{z}<extra></extra>",
         "legendgroup": "door",
         "marker": {
          "color": "#B6E880",
          "symbol": "circle"
         },
         "mode": "markers",
         "name": "door",
         "scene": "scene",
         "showlegend": true,
         "type": "scatter3d",
         "x": [
          -0.4377852976322174
         ],
         "y": [
          0.5428562760353088
         ],
         "z": [
          0.3919978439807892
         ]
        },
        {
         "hovertemplate": "color=joffrey<br>0=%{x}<br>1=%{y}<br>2=%{z}<extra></extra>",
         "legendgroup": "joffrey",
         "marker": {
          "color": "#FF97FF",
          "symbol": "circle"
         },
         "mode": "markers",
         "name": "joffrey",
         "scene": "scene",
         "showlegend": true,
         "type": "scatter3d",
         "x": [
          0.4984799027442932
         ],
         "y": [
          0.4033849239349365
         ],
         "z": [
          0.2396092712879181
         ]
        },
        {
         "hovertemplate": "color=green<br>0=%{x}<br>1=%{y}<br>2=%{z}<extra></extra>",
         "legendgroup": "green",
         "marker": {
          "color": "#FECB52",
          "symbol": "circle"
         },
         "mode": "markers",
         "name": "green",
         "scene": "scene",
         "showlegend": true,
         "type": "scatter3d",
         "x": [
          -0.4328139126300812
         ],
         "y": [
          0.2753038704395294
         ],
         "z": [
          -0.16910381615161896
         ]
        },
        {
         "hovertemplate": "color=big<br>0=%{x}<br>1=%{y}<br>2=%{z}<extra></extra>",
         "legendgroup": "big",
         "marker": {
          "color": "#636efa",
          "symbol": "circle"
         },
         "mode": "markers",
         "name": "big",
         "scene": "scene",
         "showlegend": true,
         "type": "scatter3d",
         "x": [
          -0.26143157482147217
         ],
         "y": [
          0.13428935408592224
         ],
         "z": [
          0.19375762343406677
         ]
        },
        {
         "hovertemplate": "color=under<br>0=%{x}<br>1=%{y}<br>2=%{z}<extra></extra>",
         "legendgroup": "under",
         "marker": {
          "color": "#EF553B",
          "symbol": "circle"
         },
         "mode": "markers",
         "name": "under",
         "scene": "scene",
         "showlegend": true,
         "type": "scatter3d",
         "x": [
          -0.5273907780647278
         ],
         "y": [
          0.2880713939666748
         ],
         "z": [
          0.32054823637008667
         ]
        },
        {
         "hovertemplate": "color=few<br>0=%{x}<br>1=%{y}<br>2=%{z}<extra></extra>",
         "legendgroup": "few",
         "marker": {
          "color": "#00cc96",
          "symbol": "circle"
         },
         "mode": "markers",
         "name": "few",
         "scene": "scene",
         "showlegend": true,
         "type": "scatter3d",
         "x": [
          -0.01731627993285656
         ],
         "y": [
          0.5663655996322632
         ],
         "z": [
          -0.23203210532665253
         ]
        },
        {
         "hovertemplate": "color=sent<br>0=%{x}<br>1=%{y}<br>2=%{z}<extra></extra>",
         "legendgroup": "sent",
         "marker": {
          "color": "#ab63fa",
          "symbol": "circle"
         },
         "mode": "markers",
         "name": "sent",
         "scene": "scene",
         "showlegend": true,
         "type": "scatter3d",
         "x": [
          0.2668311893939972
         ],
         "y": [
          0.5353221893310547
         ],
         "z": [
          0.43604734539985657
         ]
        },
        {
         "hovertemplate": "color=perhaps<br>0=%{x}<br>1=%{y}<br>2=%{z}<extra></extra>",
         "legendgroup": "perhaps",
         "marker": {
          "color": "#FFA15A",
          "symbol": "circle"
         },
         "mode": "markers",
         "name": "perhaps",
         "scene": "scene",
         "showlegend": true,
         "type": "scatter3d",
         "x": [
          0.7065504789352417
         ],
         "y": [
          0.5117121934890747
         ],
         "z": [
          0.08692282438278198
         ]
        },
        {
         "hovertemplate": "color=almost<br>0=%{x}<br>1=%{y}<br>2=%{z}<extra></extra>",
         "legendgroup": "almost",
         "marker": {
          "color": "#19d3f3",
          "symbol": "circle"
         },
         "mode": "markers",
         "name": "almost",
         "scene": "scene",
         "showlegend": true,
         "type": "scatter3d",
         "x": [
          -0.22824908792972565
         ],
         "y": [
          0.3330618739128113
         ],
         "z": [
          0.42023521661758423
         ]
        },
        {
         "hovertemplate": "color=such<br>0=%{x}<br>1=%{y}<br>2=%{z}<extra></extra>",
         "legendgroup": "such",
         "marker": {
          "color": "#FF6692",
          "symbol": "circle"
         },
         "mode": "markers",
         "name": "such",
         "scene": "scene",
         "showlegend": true,
         "type": "scatter3d",
         "x": [
          0.6444201469421387
         ],
         "y": [
          0.449065625667572
         ],
         "z": [
          -0.13060835003852844
         ]
        },
        {
         "hovertemplate": "color=wanted<br>0=%{x}<br>1=%{y}<br>2=%{z}<extra></extra>",
         "legendgroup": "wanted",
         "marker": {
          "color": "#B6E880",
          "symbol": "circle"
         },
         "mode": "markers",
         "name": "wanted",
         "scene": "scene",
         "showlegend": true,
         "type": "scatter3d",
         "x": [
          0.4710076153278351
         ],
         "y": [
          0.4564026892185211
         ],
         "z": [
          0.5421333909034729
         ]
        },
        {
         "hovertemplate": "color=daughter<br>0=%{x}<br>1=%{y}<br>2=%{z}<extra></extra>",
         "legendgroup": "daughter",
         "marker": {
          "color": "#FF97FF",
          "symbol": "circle"
         },
         "mode": "markers",
         "name": "daughter",
         "scene": "scene",
         "showlegend": true,
         "type": "scatter3d",
         "x": [
          0.5411143898963928
         ],
         "y": [
          0.29007038474082947
         ],
         "z": [
          0.09393390268087387
         ]
        },
        {
         "hovertemplate": "color=true<br>0=%{x}<br>1=%{y}<br>2=%{z}<extra></extra>",
         "legendgroup": "true",
         "marker": {
          "color": "#FECB52",
          "symbol": "circle"
         },
         "mode": "markers",
         "name": "true",
         "scene": "scene",
         "showlegend": true,
         "type": "scatter3d",
         "x": [
          0.6975970268249512
         ],
         "y": [
          0.44266363978385925
         ],
         "z": [
          -0.044859472662210464
         ]
        },
        {
         "hovertemplate": "color=while<br>0=%{x}<br>1=%{y}<br>2=%{z}<extra></extra>",
         "legendgroup": "while",
         "marker": {
          "color": "#636efa",
          "symbol": "circle"
         },
         "mode": "markers",
         "name": "while",
         "scene": "scene",
         "showlegend": true,
         "type": "scatter3d",
         "x": [
          -0.3320360481739044
         ],
         "y": [
          0.4869864583015442
         ],
         "z": [
          0.2659769654273987
         ]
        },
        {
         "hovertemplate": "color=leave<br>0=%{x}<br>1=%{y}<br>2=%{z}<extra></extra>",
         "legendgroup": "leave",
         "marker": {
          "color": "#EF553B",
          "symbol": "circle"
         },
         "mode": "markers",
         "name": "leave",
         "scene": "scene",
         "showlegend": true,
         "type": "scatter3d",
         "x": [
          0.46512365341186523
         ],
         "y": [
          0.6473738551139832
         ],
         "z": [
          0.3274875581264496
         ]
        },
        {
         "hovertemplate": "color=city<br>0=%{x}<br>1=%{y}<br>2=%{z}<extra></extra>",
         "legendgroup": "city",
         "marker": {
          "color": "#00cc96",
          "symbol": "circle"
         },
         "mode": "markers",
         "name": "city",
         "scene": "scene",
         "showlegend": true,
         "type": "scatter3d",
         "x": [
          0.13417038321495056
         ],
         "y": [
          0.8213449716567993
         ],
         "z": [
          -0.37632298469543457
         ]
        },
        {
         "hovertemplate": "color=wind<br>0=%{x}<br>1=%{y}<br>2=%{z}<extra></extra>",
         "legendgroup": "wind",
         "marker": {
          "color": "#ab63fa",
          "symbol": "circle"
         },
         "mode": "markers",
         "name": "wind",
         "scene": "scene",
         "showlegend": true,
         "type": "scatter3d",
         "x": [
          -0.581912100315094
         ],
         "y": [
          0.5345970392227173
         ],
         "z": [
          0.10795456916093826
         ]
        },
        {
         "hovertemplate": "color=light<br>0=%{x}<br>1=%{y}<br>2=%{z}<extra></extra>",
         "legendgroup": "light",
         "marker": {
          "color": "#FFA15A",
          "symbol": "circle"
         },
         "mode": "markers",
         "name": "light",
         "scene": "scene",
         "showlegend": true,
         "type": "scatter3d",
         "x": [
          -0.41404202580451965
         ],
         "y": [
          0.6035939455032349
         ],
         "z": [
          0.022770071402192116
         ]
        },
        {
         "hovertemplate": "color=arms<br>0=%{x}<br>1=%{y}<br>2=%{z}<extra></extra>",
         "legendgroup": "arms",
         "marker": {
          "color": "#19d3f3",
          "symbol": "circle"
         },
         "mode": "markers",
         "name": "arms",
         "scene": "scene",
         "showlegend": true,
         "type": "scatter3d",
         "x": [
          -0.17579573392868042
         ],
         "y": [
          0.39821624755859375
         ],
         "z": [
          0.2491157203912735
         ]
        },
        {
         "hovertemplate": "color=children<br>0=%{x}<br>1=%{y}<br>2=%{z}<extra></extra>",
         "legendgroup": "children",
         "marker": {
          "color": "#FF6692",
          "symbol": "circle"
         },
         "mode": "markers",
         "name": "children",
         "scene": "scene",
         "showlegend": true,
         "type": "scatter3d",
         "x": [
          0.3494141399860382
         ],
         "y": [
          0.6592994332313538
         ],
         "z": [
          -0.26720425486564636
         ]
        },
        {
         "hovertemplate": "color=herself<br>0=%{x}<br>1=%{y}<br>2=%{z}<extra></extra>",
         "legendgroup": "herself",
         "marker": {
          "color": "#B6E880",
          "symbol": "circle"
         },
         "mode": "markers",
         "name": "herself",
         "scene": "scene",
         "showlegend": true,
         "type": "scatter3d",
         "x": [
          0.06781596690416336
         ],
         "y": [
          0.37938815355300903
         ],
         "z": [
          0.33535513281822205
         ]
        },
        {
         "hovertemplate": "color=sweet<br>0=%{x}<br>1=%{y}<br>2=%{z}<extra></extra>",
         "legendgroup": "sweet",
         "marker": {
          "color": "#FF97FF",
          "symbol": "circle"
         },
         "mode": "markers",
         "name": "sweet",
         "scene": "scene",
         "showlegend": true,
         "type": "scatter3d",
         "x": [
          0.41808685660362244
         ],
         "y": [
          0.22203923761844635
         ],
         "z": [
          0.2694796323776245
         ]
        },
        {
         "hovertemplate": "color=others<br>0=%{x}<br>1=%{y}<br>2=%{z}<extra></extra>",
         "legendgroup": "others",
         "marker": {
          "color": "#FECB52",
          "symbol": "circle"
         },
         "mode": "markers",
         "name": "others",
         "scene": "scene",
         "showlegend": true,
         "type": "scatter3d",
         "x": [
          0.005228282418102026
         ],
         "y": [
          0.6186545491218567
         ],
         "z": [
          -0.16148962080478668
         ]
        },
        {
         "hovertemplate": "color=lost<br>0=%{x}<br>1=%{y}<br>2=%{z}<extra></extra>",
         "legendgroup": "lost",
         "marker": {
          "color": "#636efa",
          "symbol": "circle"
         },
         "mode": "markers",
         "name": "lost",
         "scene": "scene",
         "showlegend": true,
         "type": "scatter3d",
         "x": [
          0.24762412905693054
         ],
         "y": [
          0.516746997833252
         ],
         "z": [
          0.25276806950569153
         ]
        },
        {
         "hovertemplate": "color=theon<br>0=%{x}<br>1=%{y}<br>2=%{z}<extra></extra>",
         "legendgroup": "theon",
         "marker": {
          "color": "#EF553B",
          "symbol": "circle"
         },
         "mode": "markers",
         "name": "theon",
         "scene": "scene",
         "showlegend": true,
         "type": "scatter3d",
         "x": [
          0.2367607206106186
         ],
         "y": [
          0.3080267608165741
         ],
         "z": [
          0.2839091122150421
         ]
        },
        {
         "hovertemplate": "color=each<br>0=%{x}<br>1=%{y}<br>2=%{z}<extra></extra>",
         "legendgroup": "each",
         "marker": {
          "color": "#00cc96",
          "symbol": "circle"
         },
         "mode": "markers",
         "name": "each",
         "scene": "scene",
         "showlegend": true,
         "type": "scatter3d",
         "x": [
          -0.24766243994235992
         ],
         "y": [
          0.517462968826294
         ],
         "z": [
          -0.04880189895629883
         ]
        },
        {
         "hovertemplate": "color=felt<br>0=%{x}<br>1=%{y}<br>2=%{z}<extra></extra>",
         "legendgroup": "felt",
         "marker": {
          "color": "#ab63fa",
          "symbol": "circle"
         },
         "mode": "markers",
         "name": "felt",
         "scene": "scene",
         "showlegend": true,
         "type": "scatter3d",
         "x": [
          -0.11335565149784088
         ],
         "y": [
          0.2981109321117401
         ],
         "z": [
          0.6247493028640747
         ]
        },
        {
         "hovertemplate": "color=side<br>0=%{x}<br>1=%{y}<br>2=%{z}<extra></extra>",
         "legendgroup": "side",
         "marker": {
          "color": "#FFA15A",
          "symbol": "circle"
         },
         "mode": "markers",
         "name": "side",
         "scene": "scene",
         "showlegend": true,
         "type": "scatter3d",
         "x": [
          -0.296562135219574
         ],
         "y": [
          0.6708884835243225
         ],
         "z": [
          0.21424928307533264
         ]
        },
        {
         "hovertemplate": "color=yes<br>0=%{x}<br>1=%{y}<br>2=%{z}<extra></extra>",
         "legendgroup": "yes",
         "marker": {
          "color": "#19d3f3",
          "symbol": "circle"
         },
         "mode": "markers",
         "name": "yes",
         "scene": "scene",
         "showlegend": true,
         "type": "scatter3d",
         "x": [
          0.7515420317649841
         ],
         "y": [
          0.2719961702823639
         ],
         "z": [
          0.20816773176193237
         ]
        },
        {
         "hovertemplate": "color=brothers<br>0=%{x}<br>1=%{y}<br>2=%{z}<extra></extra>",
         "legendgroup": "brothers",
         "marker": {
          "color": "#FF6692",
          "symbol": "circle"
         },
         "mode": "markers",
         "name": "brothers",
         "scene": "scene",
         "showlegend": true,
         "type": "scatter3d",
         "x": [
          0.28792157769203186
         ],
         "y": [
          0.6757932305335999
         ],
         "z": [
          -0.1487574726343155
         ]
        },
        {
         "hovertemplate": "color=best<br>0=%{x}<br>1=%{y}<br>2=%{z}<extra></extra>",
         "legendgroup": "best",
         "marker": {
          "color": "#B6E880",
          "symbol": "circle"
         },
         "mode": "markers",
         "name": "best",
         "scene": "scene",
         "showlegend": true,
         "type": "scatter3d",
         "x": [
          0.5693362951278687
         ],
         "y": [
          0.6080368161201477
         ],
         "z": [
          0.1077083870768547
         ]
        },
        {
         "hovertemplate": "color=very<br>0=%{x}<br>1=%{y}<br>2=%{z}<extra></extra>",
         "legendgroup": "very",
         "marker": {
          "color": "#FF97FF",
          "symbol": "circle"
         },
         "mode": "markers",
         "name": "very",
         "scene": "scene",
         "showlegend": true,
         "type": "scatter3d",
         "x": [
          0.3610643446445465
         ],
         "y": [
          0.3455235958099365
         ],
         "z": [
          0.08323515951633453
         ]
        },
        {
         "hovertemplate": "color=die<br>0=%{x}<br>1=%{y}<br>2=%{z}<extra></extra>",
         "legendgroup": "die",
         "marker": {
          "color": "#FECB52",
          "symbol": "circle"
         },
         "mode": "markers",
         "name": "die",
         "scene": "scene",
         "showlegend": true,
         "type": "scatter3d",
         "x": [
          0.49196603894233704
         ],
         "y": [
          0.6719977259635925
         ],
         "z": [
          0.18074999749660492
         ]
        }
       ],
       "layout": {
        "legend": {
         "title": {
          "text": "color"
         },
         "tracegroupgap": 0
        },
        "margin": {
         "t": 60
        },
        "scene": {
         "domain": {
          "x": [
           0,
           1
          ],
          "y": [
           0,
           1
          ]
         },
         "xaxis": {
          "title": {
           "text": "0"
          }
         },
         "yaxis": {
          "title": {
           "text": "1"
          }
         },
         "zaxis": {
          "title": {
           "text": "2"
          }
         }
        },
        "template": {
         "data": {
          "bar": [
           {
            "error_x": {
             "color": "#2a3f5f"
            },
            "error_y": {
             "color": "#2a3f5f"
            },
            "marker": {
             "line": {
              "color": "#E5ECF6",
              "width": 0.5
             }
            },
            "type": "bar"
           }
          ],
          "barpolar": [
           {
            "marker": {
             "line": {
              "color": "#E5ECF6",
              "width": 0.5
             }
            },
            "type": "barpolar"
           }
          ],
          "carpet": [
           {
            "aaxis": {
             "endlinecolor": "#2a3f5f",
             "gridcolor": "white",
             "linecolor": "white",
             "minorgridcolor": "white",
             "startlinecolor": "#2a3f5f"
            },
            "baxis": {
             "endlinecolor": "#2a3f5f",
             "gridcolor": "white",
             "linecolor": "white",
             "minorgridcolor": "white",
             "startlinecolor": "#2a3f5f"
            },
            "type": "carpet"
           }
          ],
          "choropleth": [
           {
            "colorbar": {
             "outlinewidth": 0,
             "ticks": ""
            },
            "type": "choropleth"
           }
          ],
          "contour": [
           {
            "colorbar": {
             "outlinewidth": 0,
             "ticks": ""
            },
            "colorscale": [
             [
              0,
              "#0d0887"
             ],
             [
              0.1111111111111111,
              "#46039f"
             ],
             [
              0.2222222222222222,
              "#7201a8"
             ],
             [
              0.3333333333333333,
              "#9c179e"
             ],
             [
              0.4444444444444444,
              "#bd3786"
             ],
             [
              0.5555555555555556,
              "#d8576b"
             ],
             [
              0.6666666666666666,
              "#ed7953"
             ],
             [
              0.7777777777777778,
              "#fb9f3a"
             ],
             [
              0.8888888888888888,
              "#fdca26"
             ],
             [
              1,
              "#f0f921"
             ]
            ],
            "type": "contour"
           }
          ],
          "contourcarpet": [
           {
            "colorbar": {
             "outlinewidth": 0,
             "ticks": ""
            },
            "type": "contourcarpet"
           }
          ],
          "heatmap": [
           {
            "colorbar": {
             "outlinewidth": 0,
             "ticks": ""
            },
            "colorscale": [
             [
              0,
              "#0d0887"
             ],
             [
              0.1111111111111111,
              "#46039f"
             ],
             [
              0.2222222222222222,
              "#7201a8"
             ],
             [
              0.3333333333333333,
              "#9c179e"
             ],
             [
              0.4444444444444444,
              "#bd3786"
             ],
             [
              0.5555555555555556,
              "#d8576b"
             ],
             [
              0.6666666666666666,
              "#ed7953"
             ],
             [
              0.7777777777777778,
              "#fb9f3a"
             ],
             [
              0.8888888888888888,
              "#fdca26"
             ],
             [
              1,
              "#f0f921"
             ]
            ],
            "type": "heatmap"
           }
          ],
          "heatmapgl": [
           {
            "colorbar": {
             "outlinewidth": 0,
             "ticks": ""
            },
            "colorscale": [
             [
              0,
              "#0d0887"
             ],
             [
              0.1111111111111111,
              "#46039f"
             ],
             [
              0.2222222222222222,
              "#7201a8"
             ],
             [
              0.3333333333333333,
              "#9c179e"
             ],
             [
              0.4444444444444444,
              "#bd3786"
             ],
             [
              0.5555555555555556,
              "#d8576b"
             ],
             [
              0.6666666666666666,
              "#ed7953"
             ],
             [
              0.7777777777777778,
              "#fb9f3a"
             ],
             [
              0.8888888888888888,
              "#fdca26"
             ],
             [
              1,
              "#f0f921"
             ]
            ],
            "type": "heatmapgl"
           }
          ],
          "histogram": [
           {
            "marker": {
             "colorbar": {
              "outlinewidth": 0,
              "ticks": ""
             }
            },
            "type": "histogram"
           }
          ],
          "histogram2d": [
           {
            "colorbar": {
             "outlinewidth": 0,
             "ticks": ""
            },
            "colorscale": [
             [
              0,
              "#0d0887"
             ],
             [
              0.1111111111111111,
              "#46039f"
             ],
             [
              0.2222222222222222,
              "#7201a8"
             ],
             [
              0.3333333333333333,
              "#9c179e"
             ],
             [
              0.4444444444444444,
              "#bd3786"
             ],
             [
              0.5555555555555556,
              "#d8576b"
             ],
             [
              0.6666666666666666,
              "#ed7953"
             ],
             [
              0.7777777777777778,
              "#fb9f3a"
             ],
             [
              0.8888888888888888,
              "#fdca26"
             ],
             [
              1,
              "#f0f921"
             ]
            ],
            "type": "histogram2d"
           }
          ],
          "histogram2dcontour": [
           {
            "colorbar": {
             "outlinewidth": 0,
             "ticks": ""
            },
            "colorscale": [
             [
              0,
              "#0d0887"
             ],
             [
              0.1111111111111111,
              "#46039f"
             ],
             [
              0.2222222222222222,
              "#7201a8"
             ],
             [
              0.3333333333333333,
              "#9c179e"
             ],
             [
              0.4444444444444444,
              "#bd3786"
             ],
             [
              0.5555555555555556,
              "#d8576b"
             ],
             [
              0.6666666666666666,
              "#ed7953"
             ],
             [
              0.7777777777777778,
              "#fb9f3a"
             ],
             [
              0.8888888888888888,
              "#fdca26"
             ],
             [
              1,
              "#f0f921"
             ]
            ],
            "type": "histogram2dcontour"
           }
          ],
          "mesh3d": [
           {
            "colorbar": {
             "outlinewidth": 0,
             "ticks": ""
            },
            "type": "mesh3d"
           }
          ],
          "parcoords": [
           {
            "line": {
             "colorbar": {
              "outlinewidth": 0,
              "ticks": ""
             }
            },
            "type": "parcoords"
           }
          ],
          "pie": [
           {
            "automargin": true,
            "type": "pie"
           }
          ],
          "scatter": [
           {
            "marker": {
             "colorbar": {
              "outlinewidth": 0,
              "ticks": ""
             }
            },
            "type": "scatter"
           }
          ],
          "scatter3d": [
           {
            "line": {
             "colorbar": {
              "outlinewidth": 0,
              "ticks": ""
             }
            },
            "marker": {
             "colorbar": {
              "outlinewidth": 0,
              "ticks": ""
             }
            },
            "type": "scatter3d"
           }
          ],
          "scattercarpet": [
           {
            "marker": {
             "colorbar": {
              "outlinewidth": 0,
              "ticks": ""
             }
            },
            "type": "scattercarpet"
           }
          ],
          "scattergeo": [
           {
            "marker": {
             "colorbar": {
              "outlinewidth": 0,
              "ticks": ""
             }
            },
            "type": "scattergeo"
           }
          ],
          "scattergl": [
           {
            "marker": {
             "colorbar": {
              "outlinewidth": 0,
              "ticks": ""
             }
            },
            "type": "scattergl"
           }
          ],
          "scattermapbox": [
           {
            "marker": {
             "colorbar": {
              "outlinewidth": 0,
              "ticks": ""
             }
            },
            "type": "scattermapbox"
           }
          ],
          "scatterpolar": [
           {
            "marker": {
             "colorbar": {
              "outlinewidth": 0,
              "ticks": ""
             }
            },
            "type": "scatterpolar"
           }
          ],
          "scatterpolargl": [
           {
            "marker": {
             "colorbar": {
              "outlinewidth": 0,
              "ticks": ""
             }
            },
            "type": "scatterpolargl"
           }
          ],
          "scatterternary": [
           {
            "marker": {
             "colorbar": {
              "outlinewidth": 0,
              "ticks": ""
             }
            },
            "type": "scatterternary"
           }
          ],
          "surface": [
           {
            "colorbar": {
             "outlinewidth": 0,
             "ticks": ""
            },
            "colorscale": [
             [
              0,
              "#0d0887"
             ],
             [
              0.1111111111111111,
              "#46039f"
             ],
             [
              0.2222222222222222,
              "#7201a8"
             ],
             [
              0.3333333333333333,
              "#9c179e"
             ],
             [
              0.4444444444444444,
              "#bd3786"
             ],
             [
              0.5555555555555556,
              "#d8576b"
             ],
             [
              0.6666666666666666,
              "#ed7953"
             ],
             [
              0.7777777777777778,
              "#fb9f3a"
             ],
             [
              0.8888888888888888,
              "#fdca26"
             ],
             [
              1,
              "#f0f921"
             ]
            ],
            "type": "surface"
           }
          ],
          "table": [
           {
            "cells": {
             "fill": {
              "color": "#EBF0F8"
             },
             "line": {
              "color": "white"
             }
            },
            "header": {
             "fill": {
              "color": "#C8D4E3"
             },
             "line": {
              "color": "white"
             }
            },
            "type": "table"
           }
          ]
         },
         "layout": {
          "annotationdefaults": {
           "arrowcolor": "#2a3f5f",
           "arrowhead": 0,
           "arrowwidth": 1
          },
          "autotypenumbers": "strict",
          "coloraxis": {
           "colorbar": {
            "outlinewidth": 0,
            "ticks": ""
           }
          },
          "colorscale": {
           "diverging": [
            [
             0,
             "#8e0152"
            ],
            [
             0.1,
             "#c51b7d"
            ],
            [
             0.2,
             "#de77ae"
            ],
            [
             0.3,
             "#f1b6da"
            ],
            [
             0.4,
             "#fde0ef"
            ],
            [
             0.5,
             "#f7f7f7"
            ],
            [
             0.6,
             "#e6f5d0"
            ],
            [
             0.7,
             "#b8e186"
            ],
            [
             0.8,
             "#7fbc41"
            ],
            [
             0.9,
             "#4d9221"
            ],
            [
             1,
             "#276419"
            ]
           ],
           "sequential": [
            [
             0,
             "#0d0887"
            ],
            [
             0.1111111111111111,
             "#46039f"
            ],
            [
             0.2222222222222222,
             "#7201a8"
            ],
            [
             0.3333333333333333,
             "#9c179e"
            ],
            [
             0.4444444444444444,
             "#bd3786"
            ],
            [
             0.5555555555555556,
             "#d8576b"
            ],
            [
             0.6666666666666666,
             "#ed7953"
            ],
            [
             0.7777777777777778,
             "#fb9f3a"
            ],
            [
             0.8888888888888888,
             "#fdca26"
            ],
            [
             1,
             "#f0f921"
            ]
           ],
           "sequentialminus": [
            [
             0,
             "#0d0887"
            ],
            [
             0.1111111111111111,
             "#46039f"
            ],
            [
             0.2222222222222222,
             "#7201a8"
            ],
            [
             0.3333333333333333,
             "#9c179e"
            ],
            [
             0.4444444444444444,
             "#bd3786"
            ],
            [
             0.5555555555555556,
             "#d8576b"
            ],
            [
             0.6666666666666666,
             "#ed7953"
            ],
            [
             0.7777777777777778,
             "#fb9f3a"
            ],
            [
             0.8888888888888888,
             "#fdca26"
            ],
            [
             1,
             "#f0f921"
            ]
           ]
          },
          "colorway": [
           "#636efa",
           "#EF553B",
           "#00cc96",
           "#ab63fa",
           "#FFA15A",
           "#19d3f3",
           "#FF6692",
           "#B6E880",
           "#FF97FF",
           "#FECB52"
          ],
          "font": {
           "color": "#2a3f5f"
          },
          "geo": {
           "bgcolor": "white",
           "lakecolor": "white",
           "landcolor": "#E5ECF6",
           "showlakes": true,
           "showland": true,
           "subunitcolor": "white"
          },
          "hoverlabel": {
           "align": "left"
          },
          "hovermode": "closest",
          "mapbox": {
           "style": "light"
          },
          "paper_bgcolor": "white",
          "plot_bgcolor": "#E5ECF6",
          "polar": {
           "angularaxis": {
            "gridcolor": "white",
            "linecolor": "white",
            "ticks": ""
           },
           "bgcolor": "#E5ECF6",
           "radialaxis": {
            "gridcolor": "white",
            "linecolor": "white",
            "ticks": ""
           }
          },
          "scene": {
           "xaxis": {
            "backgroundcolor": "#E5ECF6",
            "gridcolor": "white",
            "gridwidth": 2,
            "linecolor": "white",
            "showbackground": true,
            "ticks": "",
            "zerolinecolor": "white"
           },
           "yaxis": {
            "backgroundcolor": "#E5ECF6",
            "gridcolor": "white",
            "gridwidth": 2,
            "linecolor": "white",
            "showbackground": true,
            "ticks": "",
            "zerolinecolor": "white"
           },
           "zaxis": {
            "backgroundcolor": "#E5ECF6",
            "gridcolor": "white",
            "gridwidth": 2,
            "linecolor": "white",
            "showbackground": true,
            "ticks": "",
            "zerolinecolor": "white"
           }
          },
          "shapedefaults": {
           "line": {
            "color": "#2a3f5f"
           }
          },
          "ternary": {
           "aaxis": {
            "gridcolor": "white",
            "linecolor": "white",
            "ticks": ""
           },
           "baxis": {
            "gridcolor": "white",
            "linecolor": "white",
            "ticks": ""
           },
           "bgcolor": "#E5ECF6",
           "caxis": {
            "gridcolor": "white",
            "linecolor": "white",
            "ticks": ""
           }
          },
          "title": {
           "x": 0.05
          },
          "xaxis": {
           "automargin": true,
           "gridcolor": "white",
           "linecolor": "white",
           "ticks": "",
           "title": {
            "standoff": 15
           },
           "zerolinecolor": "white",
           "zerolinewidth": 2
          },
          "yaxis": {
           "automargin": true,
           "gridcolor": "white",
           "linecolor": "white",
           "ticks": "",
           "title": {
            "standoff": 15
           },
           "zerolinecolor": "white",
           "zerolinewidth": 2
          }
         }
        }
       }
      },
      "text/html": [
       "<div>                            <div id=\"cc846b4d-be59-4b92-90cf-33003456337c\" class=\"plotly-graph-div\" style=\"height:525px; width:100%;\"></div>            <script type=\"text/javascript\">                require([\"plotly\"], function(Plotly) {                    window.PLOTLYENV=window.PLOTLYENV || {};                                    if (document.getElementById(\"cc846b4d-be59-4b92-90cf-33003456337c\")) {                    Plotly.newPlot(                        \"cc846b4d-be59-4b92-90cf-33003456337c\",                        [{\"hovertemplate\": \"color=hands<br>0=%{x}<br>1=%{y}<br>2=%{z}<extra></extra>\", \"legendgroup\": \"hands\", \"marker\": {\"color\": \"#636efa\", \"symbol\": \"circle\"}, \"mode\": \"markers\", \"name\": \"hands\", \"scene\": \"scene\", \"showlegend\": true, \"type\": \"scatter3d\", \"x\": [-0.2866871953010559], \"y\": [0.45601871609687805], \"z\": [0.39671289920806885]}, {\"hovertemplate\": \"color=stannis<br>0=%{x}<br>1=%{y}<br>2=%{z}<extra></extra>\", \"legendgroup\": \"stannis\", \"marker\": {\"color\": \"#EF553B\", \"symbol\": \"circle\"}, \"mode\": \"markers\", \"name\": \"stannis\", \"scene\": \"scene\", \"showlegend\": true, \"type\": \"scatter3d\", \"x\": [0.40317434072494507], \"y\": [0.5946080088615417], \"z\": [-0.05447414517402649]}, {\"hovertemplate\": \"color=mother<br>0=%{x}<br>1=%{y}<br>2=%{z}<extra></extra>\", \"legendgroup\": \"mother\", \"marker\": {\"color\": \"#00cc96\", \"symbol\": \"circle\"}, \"mode\": \"markers\", \"name\": \"mother\", \"scene\": \"scene\", \"showlegend\": true, \"type\": \"scatter3d\", \"x\": [0.46345603466033936], \"y\": [0.48152199387550354], \"z\": [0.12789234519004822]}, {\"hovertemplate\": \"color=catelyn<br>0=%{x}<br>1=%{y}<br>2=%{z}<extra></extra>\", \"legendgroup\": \"catelyn\", \"marker\": {\"color\": \"#ab63fa\", \"symbol\": \"circle\"}, \"mode\": \"markers\", \"name\": \"catelyn\", \"scene\": \"scene\", \"showlegend\": true, \"type\": \"scatter3d\", \"x\": [0.24138648808002472], \"y\": [0.3412677049636841], \"z\": [0.1859302669763565]}, {\"hovertemplate\": \"color=robert<br>0=%{x}<br>1=%{y}<br>2=%{z}<extra></extra>\", \"legendgroup\": \"robert\", \"marker\": {\"color\": \"#FFA15A\", \"symbol\": \"circle\"}, \"mode\": \"markers\", \"name\": \"robert\", \"scene\": \"scene\", \"showlegend\": true, \"type\": \"scatter3d\", \"x\": [0.5130556225776672], \"y\": [0.4325936436653137], \"z\": [0.09745123982429504]}, {\"hovertemplate\": \"color=seemed<br>0=%{x}<br>1=%{y}<br>2=%{z}<extra></extra>\", \"legendgroup\": \"seemed\", \"marker\": {\"color\": \"#19d3f3\", \"symbol\": \"circle\"}, \"mode\": \"markers\", \"name\": \"seemed\", \"scene\": \"scene\", \"showlegend\": true, \"type\": \"scatter3d\", \"x\": [0.024137843400239944], \"y\": [0.43028515577316284], \"z\": [0.28594857454299927]}, {\"hovertemplate\": \"color=prince<br>0=%{x}<br>1=%{y}<br>2=%{z}<extra></extra>\", \"legendgroup\": \"prince\", \"marker\": {\"color\": \"#FF6692\", \"symbol\": \"circle\"}, \"mode\": \"markers\", \"name\": \"prince\", \"scene\": \"scene\", \"showlegend\": true, \"type\": \"scatter3d\", \"x\": [0.523842453956604], \"y\": [0.43171584606170654], \"z\": [0.1275116354227066]}, {\"hovertemplate\": \"color=may<br>0=%{x}<br>1=%{y}<br>2=%{z}<extra></extra>\", \"legendgroup\": \"may\", \"marker\": {\"color\": \"#B6E880\", \"symbol\": \"circle\"}, \"mode\": \"markers\", \"name\": \"may\", \"scene\": \"scene\", \"showlegend\": true, \"type\": \"scatter3d\", \"x\": [0.5497362613677979], \"y\": [0.4725663959980011], \"z\": [0.1338309496641159]}, {\"hovertemplate\": \"color=ever<br>0=%{x}<br>1=%{y}<br>2=%{z}<extra></extra>\", \"legendgroup\": \"ever\", \"marker\": {\"color\": \"#FF97FF\", \"symbol\": \"circle\"}, \"mode\": \"markers\", \"name\": \"ever\", \"scene\": \"scene\", \"showlegend\": true, \"type\": \"scatter3d\", \"x\": [0.4356233477592468], \"y\": [0.48018214106559753], \"z\": [0.08138957619667053]}, {\"hovertemplate\": \"color=robb<br>0=%{x}<br>1=%{y}<br>2=%{z}<extra></extra>\", \"legendgroup\": \"robb\", \"marker\": {\"color\": \"#FECB52\", \"symbol\": \"circle\"}, \"mode\": \"markers\", \"name\": \"robb\", \"scene\": \"scene\", \"showlegend\": true, \"type\": \"scatter3d\", \"x\": [0.39167463779449463], \"y\": [0.4688773453235626], \"z\": [0.19631589949131012]}, {\"hovertemplate\": \"color=done<br>0=%{x}<br>1=%{y}<br>2=%{z}<extra></extra>\", \"legendgroup\": \"done\", \"marker\": {\"color\": \"#636efa\", \"symbol\": \"circle\"}, \"mode\": \"markers\", \"name\": \"done\", \"scene\": \"scene\", \"showlegend\": true, \"type\": \"scatter3d\", \"x\": [0.450316458940506], \"y\": [0.5829903483390808], \"z\": [0.24486631155014038]}, {\"hovertemplate\": \"color=don<br>0=%{x}<br>1=%{y}<br>2=%{z}<extra></extra>\", \"legendgroup\": \"don\", \"marker\": {\"color\": \"#EF553B\", \"symbol\": \"circle\"}, \"mode\": \"markers\", \"name\": \"don\", \"scene\": \"scene\", \"showlegend\": true, \"type\": \"scatter3d\", \"x\": [0.4574142396450043], \"y\": [0.36247313022613525], \"z\": [0.3343662619590759]}, {\"hovertemplate\": \"color=find<br>0=%{x}<br>1=%{y}<br>2=%{z}<extra></extra>\", \"legendgroup\": \"find\", \"marker\": {\"color\": \"#00cc96\", \"symbol\": \"circle\"}, \"mode\": \"markers\", \"name\": \"find\", \"scene\": \"scene\", \"showlegend\": true, \"type\": \"scatter3d\", \"x\": [0.3868741989135742], \"y\": [0.6337139010429382], \"z\": [0.35841643810272217]}, {\"hovertemplate\": \"color=lannister<br>0=%{x}<br>1=%{y}<br>2=%{z}<extra></extra>\", \"legendgroup\": \"lannister\", \"marker\": {\"color\": \"#ab63fa\", \"symbol\": \"circle\"}, \"mode\": \"markers\", \"name\": \"lannister\", \"scene\": \"scene\", \"showlegend\": true, \"type\": \"scatter3d\", \"x\": [0.3777656853199005], \"y\": [0.4276695251464844], \"z\": [0.08982288092374802]}, {\"hovertemplate\": \"color=re<br>0=%{x}<br>1=%{y}<br>2=%{z}<extra></extra>\", \"legendgroup\": \"re\", \"marker\": {\"color\": \"#FFA15A\", \"symbol\": \"circle\"}, \"mode\": \"markers\", \"name\": \"re\", \"scene\": \"scene\", \"showlegend\": true, \"type\": \"scatter3d\", \"x\": [0.3824816048145294], \"y\": [0.46664172410964966], \"z\": [0.25876569747924805]}, {\"hovertemplate\": \"color=hear<br>0=%{x}<br>1=%{y}<br>2=%{z}<extra></extra>\", \"legendgroup\": \"hear\", \"marker\": {\"color\": \"#19d3f3\", \"symbol\": \"circle\"}, \"mode\": \"markers\", \"name\": \"hear\", \"scene\": \"scene\", \"showlegend\": true, \"type\": \"scatter3d\", \"x\": [0.18946920335292816], \"y\": [0.5261832475662231], \"z\": [0.426797479391098]}, {\"hovertemplate\": \"color=grey<br>0=%{x}<br>1=%{y}<br>2=%{z}<extra></extra>\", \"legendgroup\": \"grey\", \"marker\": {\"color\": \"#FF6692\", \"symbol\": \"circle\"}, \"mode\": \"markers\", \"name\": \"grey\", \"scene\": \"scene\", \"showlegend\": true, \"type\": \"scatter3d\", \"x\": [-0.46159490942955017], \"y\": [0.2372104823589325], \"z\": [0.019729921594262123]}, {\"hovertemplate\": \"color=name<br>0=%{x}<br>1=%{y}<br>2=%{z}<extra></extra>\", \"legendgroup\": \"name\", \"marker\": {\"color\": \"#B6E880\", \"symbol\": \"circle\"}, \"mode\": \"markers\", \"name\": \"name\", \"scene\": \"scene\", \"showlegend\": true, \"type\": \"scatter3d\", \"x\": [0.5809237360954285], \"y\": [0.5757064819335938], \"z\": [0.1956397145986557]}, {\"hovertemplate\": \"color=horse<br>0=%{x}<br>1=%{y}<br>2=%{z}<extra></extra>\", \"legendgroup\": \"horse\", \"marker\": {\"color\": \"#FF97FF\", \"symbol\": \"circle\"}, \"mode\": \"markers\", \"name\": \"horse\", \"scene\": \"scene\", \"showlegend\": true, \"type\": \"scatter3d\", \"x\": [-0.3291758596897125], \"y\": [0.5346190333366394], \"z\": [0.324786901473999]}, {\"hovertemplate\": \"color=high<br>0=%{x}<br>1=%{y}<br>2=%{z}<extra></extra>\", \"legendgroup\": \"high\", \"marker\": {\"color\": \"#FECB52\", \"symbol\": \"circle\"}, \"mode\": \"markers\", \"name\": \"high\", \"scene\": \"scene\", \"showlegend\": true, \"type\": \"scatter3d\", \"x\": [-0.17712625861167908], \"y\": [0.4487155079841614], \"z\": [-0.1853649616241455]}, {\"hovertemplate\": \"color=put<br>0=%{x}<br>1=%{y}<br>2=%{z}<extra></extra>\", \"legendgroup\": \"put\", \"marker\": {\"color\": \"#636efa\", \"symbol\": \"circle\"}, \"mode\": \"markers\", \"name\": \"put\", \"scene\": \"scene\", \"showlegend\": true, \"type\": \"scatter3d\", \"x\": [0.23029501736164093], \"y\": [0.5269741415977478], \"z\": [0.5997484922409058]}, {\"hovertemplate\": \"color=stone<br>0=%{x}<br>1=%{y}<br>2=%{z}<extra></extra>\", \"legendgroup\": \"stone\", \"marker\": {\"color\": \"#EF553B\", \"symbol\": \"circle\"}, \"mode\": \"markers\", \"name\": \"stone\", \"scene\": \"scene\", \"showlegend\": true, \"type\": \"scatter3d\", \"x\": [-0.6466690301895142], \"y\": [0.4895620346069336], \"z\": [-0.11814118176698685]}, {\"hovertemplate\": \"color=wine<br>0=%{x}<br>1=%{y}<br>2=%{z}<extra></extra>\", \"legendgroup\": \"wine\", \"marker\": {\"color\": \"#00cc96\", \"symbol\": \"circle\"}, \"mode\": \"markers\", \"name\": \"wine\", \"scene\": \"scene\", \"showlegend\": true, \"type\": \"scatter3d\", \"x\": [-0.07062780112028122], \"y\": [0.29317083954811096], \"z\": [0.34118714928627014]}, {\"hovertemplate\": \"color=hard<br>0=%{x}<br>1=%{y}<br>2=%{z}<extra></extra>\", \"legendgroup\": \"hard\", \"marker\": {\"color\": \"#ab63fa\", \"symbol\": \"circle\"}, \"mode\": \"markers\", \"name\": \"hard\", \"scene\": \"scene\", \"showlegend\": true, \"type\": \"scatter3d\", \"x\": [-0.3221249282360077], \"y\": [0.33148619532585144], \"z\": [0.36586883664131165]}, {\"hovertemplate\": \"color=water<br>0=%{x}<br>1=%{y}<br>2=%{z}<extra></extra>\", \"legendgroup\": \"water\", \"marker\": {\"color\": \"#FFA15A\", \"symbol\": \"circle\"}, \"mode\": \"markers\", \"name\": \"water\", \"scene\": \"scene\", \"showlegend\": true, \"type\": \"scatter3d\", \"x\": [-0.549229085445404], \"y\": [0.5038744807243347], \"z\": [0.183767169713974]}, {\"hovertemplate\": \"color=upon<br>0=%{x}<br>1=%{y}<br>2=%{z}<extra></extra>\", \"legendgroup\": \"upon\", \"marker\": {\"color\": \"#19d3f3\", \"symbol\": \"circle\"}, \"mode\": \"markers\", \"name\": \"upon\", \"scene\": \"scene\", \"showlegend\": true, \"type\": \"scatter3d\", \"x\": [-0.12769649922847748], \"y\": [0.43422362208366394], \"z\": [0.13773520290851593]}, {\"hovertemplate\": \"color=fire<br>0=%{x}<br>1=%{y}<br>2=%{z}<extra></extra>\", \"legendgroup\": \"fire\", \"marker\": {\"color\": \"#FF6692\", \"symbol\": \"circle\"}, \"mode\": \"markers\", \"name\": \"fire\", \"scene\": \"scene\", \"showlegend\": true, \"type\": \"scatter3d\", \"x\": [-0.47096458077430725], \"y\": [0.6600303649902344], \"z\": [0.005520774517208338]}, {\"hovertemplate\": \"color=iron<br>0=%{x}<br>1=%{y}<br>2=%{z}<extra></extra>\", \"legendgroup\": \"iron\", \"marker\": {\"color\": \"#B6E880\", \"symbol\": \"circle\"}, \"mode\": \"markers\", \"name\": \"iron\", \"scene\": \"scene\", \"showlegend\": true, \"type\": \"scatter3d\", \"x\": [-0.2025819569826126], \"y\": [0.48838016390800476], \"z\": [-0.16005679965019226]}, {\"hovertemplate\": \"color=until<br>0=%{x}<br>1=%{y}<br>2=%{z}<extra></extra>\", \"legendgroup\": \"until\", \"marker\": {\"color\": \"#FF97FF\", \"symbol\": \"circle\"}, \"mode\": \"markers\", \"name\": \"until\", \"scene\": \"scene\", \"showlegend\": true, \"type\": \"scatter3d\", \"x\": [-0.12065070122480392], \"y\": [0.6138162612915039], \"z\": [0.3693575859069824]}, {\"hovertemplate\": \"color=these<br>0=%{x}<br>1=%{y}<br>2=%{z}<extra></extra>\", \"legendgroup\": \"these\", \"marker\": {\"color\": \"#FECB52\", \"symbol\": \"circle\"}, \"mode\": \"markers\", \"name\": \"these\", \"scene\": \"scene\", \"showlegend\": true, \"type\": \"scatter3d\", \"x\": [0.41737100481987], \"y\": [0.6200282573699951], \"z\": [-0.41340526938438416]}, {\"hovertemplate\": \"color=voice<br>0=%{x}<br>1=%{y}<br>2=%{z}<extra></extra>\", \"legendgroup\": \"voice\", \"marker\": {\"color\": \"#636efa\", \"symbol\": \"circle\"}, \"mode\": \"markers\", \"name\": \"voice\", \"scene\": \"scene\", \"showlegend\": true, \"type\": \"scatter3d\", \"x\": [0.020716818049550056], \"y\": [0.29921555519104004], \"z\": [0.4043353796005249]}, {\"hovertemplate\": \"color=gone<br>0=%{x}<br>1=%{y}<br>2=%{z}<extra></extra>\", \"legendgroup\": \"gone\", \"marker\": {\"color\": \"#EF553B\", \"symbol\": \"circle\"}, \"mode\": \"markers\", \"name\": \"gone\", \"scene\": \"scene\", \"showlegend\": true, \"type\": \"scatter3d\", \"x\": [0.05339235067367554], \"y\": [0.5611169934272766], \"z\": [0.30782291293144226]}, {\"hovertemplate\": \"color=give<br>0=%{x}<br>1=%{y}<br>2=%{z}<extra></extra>\", \"legendgroup\": \"give\", \"marker\": {\"color\": \"#00cc96\", \"symbol\": \"circle\"}, \"mode\": \"markers\", \"name\": \"give\", \"scene\": \"scene\", \"showlegend\": true, \"type\": \"scatter3d\", \"x\": [0.6000593900680542], \"y\": [0.4972163438796997], \"z\": [0.3927886486053467]}, {\"hovertemplate\": \"color=sam<br>0=%{x}<br>1=%{y}<br>2=%{z}<extra></extra>\", \"legendgroup\": \"sam\", \"marker\": {\"color\": \"#ab63fa\", \"symbol\": \"circle\"}, \"mode\": \"markers\", \"name\": \"sam\", \"scene\": \"scene\", \"showlegend\": true, \"type\": \"scatter3d\", \"x\": [-0.013580077327787876], \"y\": [0.34166833758354187], \"z\": [0.3621586263179779]}, {\"hovertemplate\": \"color=seen<br>0=%{x}<br>1=%{y}<br>2=%{z}<extra></extra>\", \"legendgroup\": \"seen\", \"marker\": {\"color\": \"#FFA15A\", \"symbol\": \"circle\"}, \"mode\": \"markers\", \"name\": \"seen\", \"scene\": \"scene\", \"showlegend\": true, \"type\": \"scatter3d\", \"x\": [0.12024080753326416], \"y\": [0.5888029932975769], \"z\": [0.20703977346420288]}, {\"hovertemplate\": \"color=better<br>0=%{x}<br>1=%{y}<br>2=%{z}<extra></extra>\", \"legendgroup\": \"better\", \"marker\": {\"color\": \"#19d3f3\", \"symbol\": \"circle\"}, \"mode\": \"markers\", \"name\": \"better\", \"scene\": \"scene\", \"showlegend\": true, \"type\": \"scatter3d\", \"x\": [0.4757804870605469], \"y\": [0.4616885483264923], \"z\": [0.11285857111215591]}, {\"hovertemplate\": \"color=shall<br>0=%{x}<br>1=%{y}<br>2=%{z}<extra></extra>\", \"legendgroup\": \"shall\", \"marker\": {\"color\": \"#FF6692\", \"symbol\": \"circle\"}, \"mode\": \"markers\", \"name\": \"shall\", \"scene\": \"scene\", \"showlegend\": true, \"type\": \"scatter3d\", \"x\": [0.5154423713684082], \"y\": [0.5381674766540527], \"z\": [0.08978952467441559]}, {\"hovertemplate\": \"color=ned<br>0=%{x}<br>1=%{y}<br>2=%{z}<extra></extra>\", \"legendgroup\": \"ned\", \"marker\": {\"color\": \"#B6E880\", \"symbol\": \"circle\"}, \"mode\": \"markers\", \"name\": \"ned\", \"scene\": \"scene\", \"showlegend\": true, \"type\": \"scatter3d\", \"x\": [0.25858160853385925], \"y\": [0.3669799566268921], \"z\": [0.26243507862091064]}, {\"hovertemplate\": \"color=always<br>0=%{x}<br>1=%{y}<br>2=%{z}<extra></extra>\", \"legendgroup\": \"always\", \"marker\": {\"color\": \"#FF97FF\", \"symbol\": \"circle\"}, \"mode\": \"markers\", \"name\": \"always\", \"scene\": \"scene\", \"showlegend\": true, \"type\": \"scatter3d\", \"x\": [0.4710236191749573], \"y\": [0.4052738845348358], \"z\": [0.08644446730613708]}, {\"hovertemplate\": \"color=years<br>0=%{x}<br>1=%{y}<br>2=%{z}<extra></extra>\", \"legendgroup\": \"years\", \"marker\": {\"color\": \"#FECB52\", \"symbol\": \"circle\"}, \"mode\": \"markers\", \"name\": \"years\", \"scene\": \"scene\", \"showlegend\": true, \"type\": \"scatter3d\", \"x\": [0.28620222210884094], \"y\": [0.583984375], \"z\": [-0.1684189885854721]}, {\"hovertemplate\": \"color=between<br>0=%{x}<br>1=%{y}<br>2=%{z}<extra></extra>\", \"legendgroup\": \"between\", \"marker\": {\"color\": \"#636efa\", \"symbol\": \"circle\"}, \"mode\": \"markers\", \"name\": \"between\", \"scene\": \"scene\", \"showlegend\": true, \"type\": \"scatter3d\", \"x\": [-0.3820306062698364], \"y\": [0.32818707823753357], \"z\": [0.26929742097854614]}, {\"hovertemplate\": \"color=dark<br>0=%{x}<br>1=%{y}<br>2=%{z}<extra></extra>\", \"legendgroup\": \"dark\", \"marker\": {\"color\": \"#EF553B\", \"symbol\": \"circle\"}, \"mode\": \"markers\", \"name\": \"dark\", \"scene\": \"scene\", \"showlegend\": true, \"type\": \"scatter3d\", \"x\": [-0.5005609393119812], \"y\": [0.42422032356262207], \"z\": [0.007420238573104143]}, {\"hovertemplate\": \"color=place<br>0=%{x}<br>1=%{y}<br>2=%{z}<extra></extra>\", \"legendgroup\": \"place\", \"marker\": {\"color\": \"#00cc96\", \"symbol\": \"circle\"}, \"mode\": \"markers\", \"name\": \"place\", \"scene\": \"scene\", \"showlegend\": true, \"type\": \"scatter3d\", \"x\": [0.22585788369178772], \"y\": [0.809872567653656], \"z\": [-0.013404592871665955]}, {\"hovertemplate\": \"color=small<br>0=%{x}<br>1=%{y}<br>2=%{z}<extra></extra>\", \"legendgroup\": \"small\", \"marker\": {\"color\": \"#ab63fa\", \"symbol\": \"circle\"}, \"mode\": \"markers\", \"name\": \"small\", \"scene\": \"scene\", \"showlegend\": true, \"type\": \"scatter3d\", \"x\": [-0.25006479024887085], \"y\": [0.3431421220302582], \"z\": [-0.1717502623796463]}, {\"hovertemplate\": \"color=cold<br>0=%{x}<br>1=%{y}<br>2=%{z}<extra></extra>\", \"legendgroup\": \"cold\", \"marker\": {\"color\": \"#FFA15A\", \"symbol\": \"circle\"}, \"mode\": \"markers\", \"name\": \"cold\", \"scene\": \"scene\", \"showlegend\": true, \"type\": \"scatter3d\", \"x\": [-0.3477244973182678], \"y\": [0.47434648871421814], \"z\": [0.21775801479816437]}, {\"hovertemplate\": \"color=winterfell<br>0=%{x}<br>1=%{y}<br>2=%{z}<extra></extra>\", \"legendgroup\": \"winterfell\", \"marker\": {\"color\": \"#19d3f3\", \"symbol\": \"circle\"}, \"mode\": \"markers\", \"name\": \"winterfell\", \"scene\": \"scene\", \"showlegend\": true, \"type\": \"scatter3d\", \"x\": [0.3150293827056885], \"y\": [0.6859230399131775], \"z\": [-0.011213477700948715]}, {\"hovertemplate\": \"color=most<br>0=%{x}<br>1=%{y}<br>2=%{z}<extra></extra>\", \"legendgroup\": \"most\", \"marker\": {\"color\": \"#FF6692\", \"symbol\": \"circle\"}, \"mode\": \"markers\", \"name\": \"most\", \"scene\": \"scene\", \"showlegend\": true, \"type\": \"scatter3d\", \"x\": [0.4126321077346802], \"y\": [0.5585652589797974], \"z\": [-0.3276742100715637]}, {\"hovertemplate\": \"color=hundred<br>0=%{x}<br>1=%{y}<br>2=%{z}<extra></extra>\", \"legendgroup\": \"hundred\", \"marker\": {\"color\": \"#B6E880\", \"symbol\": \"circle\"}, \"mode\": \"markers\", \"name\": \"hundred\", \"scene\": \"scene\", \"showlegend\": true, \"type\": \"scatter3d\", \"x\": [-0.01688048243522644], \"y\": [0.5685030817985535], \"z\": [-0.38214147090911865]}, {\"hovertemplate\": \"color=stood<br>0=%{x}<br>1=%{y}<br>2=%{z}<extra></extra>\", \"legendgroup\": \"stood\", \"marker\": {\"color\": \"#FF97FF\", \"symbol\": \"circle\"}, \"mode\": \"markers\", \"name\": \"stood\", \"scene\": \"scene\", \"showlegend\": true, \"type\": \"scatter3d\", \"x\": [-0.31106510758399963], \"y\": [0.41499489545822144], \"z\": [0.21325628459453583]}, {\"hovertemplate\": \"color=end<br>0=%{x}<br>1=%{y}<br>2=%{z}<extra></extra>\", \"legendgroup\": \"end\", \"marker\": {\"color\": \"#FECB52\", \"symbol\": \"circle\"}, \"mode\": \"markers\", \"name\": \"end\", \"scene\": \"scene\", \"showlegend\": true, \"type\": \"scatter3d\", \"x\": [0.08479105681180954], \"y\": [0.7517678141593933], \"z\": [0.0531790666282177]}, {\"hovertemplate\": \"color=sister<br>0=%{x}<br>1=%{y}<br>2=%{z}<extra></extra>\", \"legendgroup\": \"sister\", \"marker\": {\"color\": \"#636efa\", \"symbol\": \"circle\"}, \"mode\": \"markers\", \"name\": \"sister\", \"scene\": \"scene\", \"showlegend\": true, \"type\": \"scatter3d\", \"x\": [0.5805913209915161], \"y\": [0.4240042269229889], \"z\": [0.2585010230541229]}, {\"hovertemplate\": \"color=words<br>0=%{x}<br>1=%{y}<br>2=%{z}<extra></extra>\", \"legendgroup\": \"words\", \"marker\": {\"color\": \"#EF553B\", \"symbol\": \"circle\"}, \"mode\": \"markers\", \"name\": \"words\", \"scene\": \"scene\", \"showlegend\": true, \"type\": \"scatter3d\", \"x\": [0.2755928337574005], \"y\": [0.4811205565929413], \"z\": [0.24814870953559875]}, {\"hovertemplate\": \"color=sea<br>0=%{x}<br>1=%{y}<br>2=%{z}<extra></extra>\", \"legendgroup\": \"sea\", \"marker\": {\"color\": \"#00cc96\", \"symbol\": \"circle\"}, \"mode\": \"markers\", \"name\": \"sea\", \"scene\": \"scene\", \"showlegend\": true, \"type\": \"scatter3d\", \"x\": [-0.1327548772096634], \"y\": [0.755607008934021], \"z\": [-0.33058962225914]}, {\"hovertemplate\": \"color=right<br>0=%{x}<br>1=%{y}<br>2=%{z}<extra></extra>\", \"legendgroup\": \"right\", \"marker\": {\"color\": \"#ab63fa\", \"symbol\": \"circle\"}, \"mode\": \"markers\", \"name\": \"right\", \"scene\": \"scene\", \"showlegend\": true, \"type\": \"scatter3d\", \"x\": [-0.0877329558134079], \"y\": [0.5279330015182495], \"z\": [0.41792142391204834]}, {\"hovertemplate\": \"color=nothing<br>0=%{x}<br>1=%{y}<br>2=%{z}<extra></extra>\", \"legendgroup\": \"nothing\", \"marker\": {\"color\": \"#FFA15A\", \"symbol\": \"circle\"}, \"mode\": \"markers\", \"name\": \"nothing\", \"scene\": \"scene\", \"showlegend\": true, \"type\": \"scatter3d\", \"x\": [0.27924075722694397], \"y\": [0.5058612823486328], \"z\": [0.08358430117368698]}, {\"hovertemplate\": \"color=walls<br>0=%{x}<br>1=%{y}<br>2=%{z}<extra></extra>\", \"legendgroup\": \"walls\", \"marker\": {\"color\": \"#19d3f3\", \"symbol\": \"circle\"}, \"mode\": \"markers\", \"name\": \"walls\", \"scene\": \"scene\", \"showlegend\": true, \"type\": \"scatter3d\", \"x\": [-0.42237359285354614], \"y\": [0.7206674814224243], \"z\": [-0.32111111283302307]}, {\"hovertemplate\": \"color=fingers<br>0=%{x}<br>1=%{y}<br>2=%{z}<extra></extra>\", \"legendgroup\": \"fingers\", \"marker\": {\"color\": \"#FF6692\", \"symbol\": \"circle\"}, \"mode\": \"markers\", \"name\": \"fingers\", \"scene\": \"scene\", \"showlegend\": true, \"type\": \"scatter3d\", \"x\": [-0.48315533995628357], \"y\": [0.35472381114959717], \"z\": [0.5062923431396484]}, {\"hovertemplate\": \"color=same<br>0=%{x}<br>1=%{y}<br>2=%{z}<extra></extra>\", \"legendgroup\": \"same\", \"marker\": {\"color\": \"#B6E880\", \"symbol\": \"circle\"}, \"mode\": \"markers\", \"name\": \"same\", \"scene\": \"scene\", \"showlegend\": true, \"type\": \"scatter3d\", \"x\": [0.2631358802318573], \"y\": [0.5345859527587891], \"z\": [0.11238010972738266]}, {\"hovertemplate\": \"color=cloak<br>0=%{x}<br>1=%{y}<br>2=%{z}<extra></extra>\", \"legendgroup\": \"cloak\", \"marker\": {\"color\": \"#FF97FF\", \"symbol\": \"circle\"}, \"mode\": \"markers\", \"name\": \"cloak\", \"scene\": \"scene\", \"showlegend\": true, \"type\": \"scatter3d\", \"x\": [-0.40561896562576294], \"y\": [0.30275437235832214], \"z\": [0.3226776421070099]}, {\"hovertemplate\": \"color=house<br>0=%{x}<br>1=%{y}<br>2=%{z}<extra></extra>\", \"legendgroup\": \"house\", \"marker\": {\"color\": \"#FECB52\", \"symbol\": \"circle\"}, \"mode\": \"markers\", \"name\": \"house\", \"scene\": \"scene\", \"showlegend\": true, \"type\": \"scatter3d\", \"x\": [0.30473819375038147], \"y\": [0.4209236800670624], \"z\": [-0.1729515790939331]}, {\"hovertemplate\": \"color=young<br>0=%{x}<br>1=%{y}<br>2=%{z}<extra></extra>\", \"legendgroup\": \"young\", \"marker\": {\"color\": \"#636efa\", \"symbol\": \"circle\"}, \"mode\": \"markers\", \"name\": \"young\", \"scene\": \"scene\", \"showlegend\": true, \"type\": \"scatter3d\", \"x\": [0.44679272174835205], \"y\": [0.2601606249809265], \"z\": [0.018952438607811928]}, {\"hovertemplate\": \"color=does<br>0=%{x}<br>1=%{y}<br>2=%{z}<extra></extra>\", \"legendgroup\": \"does\", \"marker\": {\"color\": \"#EF553B\", \"symbol\": \"circle\"}, \"mode\": \"markers\", \"name\": \"does\", \"scene\": \"scene\", \"showlegend\": true, \"type\": \"scatter3d\", \"x\": [0.63957679271698], \"y\": [0.37272387742996216], \"z\": [0.2518191635608673]}, {\"hovertemplate\": \"color=beside<br>0=%{x}<br>1=%{y}<br>2=%{z}<extra></extra>\", \"legendgroup\": \"beside\", \"marker\": {\"color\": \"#00cc96\", \"symbol\": \"circle\"}, \"mode\": \"markers\", \"name\": \"beside\", \"scene\": \"scene\", \"showlegend\": true, \"type\": \"scatter3d\", \"x\": [-0.2666087746620178], \"y\": [0.3539370000362396], \"z\": [0.4226491153240204]}, {\"hovertemplate\": \"color=get<br>0=%{x}<br>1=%{y}<br>2=%{z}<extra></extra>\", \"legendgroup\": \"get\", \"marker\": {\"color\": \"#ab63fa\", \"symbol\": \"circle\"}, \"mode\": \"markers\", \"name\": \"get\", \"scene\": \"scene\", \"showlegend\": true, \"type\": \"scatter3d\", \"x\": [0.20894886553287506], \"y\": [0.6567362546920776], \"z\": [0.4376538097858429]}, {\"hovertemplate\": \"color=mouth<br>0=%{x}<br>1=%{y}<br>2=%{z}<extra></extra>\", \"legendgroup\": \"mouth\", \"marker\": {\"color\": \"#FFA15A\", \"symbol\": \"circle\"}, \"mode\": \"markers\", \"name\": \"mouth\", \"scene\": \"scene\", \"showlegend\": true, \"type\": \"scatter3d\", \"x\": [-0.31156566739082336], \"y\": [0.34951213002204895], \"z\": [0.541127622127533]}, {\"hovertemplate\": \"color=seven<br>0=%{x}<br>1=%{y}<br>2=%{z}<extra></extra>\", \"legendgroup\": \"seven\", \"marker\": {\"color\": \"#19d3f3\", \"symbol\": \"circle\"}, \"mode\": \"markers\", \"name\": \"seven\", \"scene\": \"scene\", \"showlegend\": true, \"type\": \"scatter3d\", \"x\": [0.31612545251846313], \"y\": [0.671062707901001], \"z\": [-0.4756007194519043]}, {\"hovertemplate\": \"color=watch<br>0=%{x}<br>1=%{y}<br>2=%{z}<extra></extra>\", \"legendgroup\": \"watch\", \"marker\": {\"color\": \"#FF6692\", \"symbol\": \"circle\"}, \"mode\": \"markers\", \"name\": \"watch\", \"scene\": \"scene\", \"showlegend\": true, \"type\": \"scatter3d\", \"x\": [0.3389427363872528], \"y\": [0.6184173822402954], \"z\": [-0.07057064771652222]}, {\"hovertemplate\": \"color=door<br>0=%{x}<br>1=%{y}<br>2=%{z}<extra></extra>\", \"legendgroup\": \"door\", \"marker\": {\"color\": \"#B6E880\", \"symbol\": \"circle\"}, \"mode\": \"markers\", \"name\": \"door\", \"scene\": \"scene\", \"showlegend\": true, \"type\": \"scatter3d\", \"x\": [-0.4377852976322174], \"y\": [0.5428562760353088], \"z\": [0.3919978439807892]}, {\"hovertemplate\": \"color=joffrey<br>0=%{x}<br>1=%{y}<br>2=%{z}<extra></extra>\", \"legendgroup\": \"joffrey\", \"marker\": {\"color\": \"#FF97FF\", \"symbol\": \"circle\"}, \"mode\": \"markers\", \"name\": \"joffrey\", \"scene\": \"scene\", \"showlegend\": true, \"type\": \"scatter3d\", \"x\": [0.4984799027442932], \"y\": [0.4033849239349365], \"z\": [0.2396092712879181]}, {\"hovertemplate\": \"color=green<br>0=%{x}<br>1=%{y}<br>2=%{z}<extra></extra>\", \"legendgroup\": \"green\", \"marker\": {\"color\": \"#FECB52\", \"symbol\": \"circle\"}, \"mode\": \"markers\", \"name\": \"green\", \"scene\": \"scene\", \"showlegend\": true, \"type\": \"scatter3d\", \"x\": [-0.4328139126300812], \"y\": [0.2753038704395294], \"z\": [-0.16910381615161896]}, {\"hovertemplate\": \"color=big<br>0=%{x}<br>1=%{y}<br>2=%{z}<extra></extra>\", \"legendgroup\": \"big\", \"marker\": {\"color\": \"#636efa\", \"symbol\": \"circle\"}, \"mode\": \"markers\", \"name\": \"big\", \"scene\": \"scene\", \"showlegend\": true, \"type\": \"scatter3d\", \"x\": [-0.26143157482147217], \"y\": [0.13428935408592224], \"z\": [0.19375762343406677]}, {\"hovertemplate\": \"color=under<br>0=%{x}<br>1=%{y}<br>2=%{z}<extra></extra>\", \"legendgroup\": \"under\", \"marker\": {\"color\": \"#EF553B\", \"symbol\": \"circle\"}, \"mode\": \"markers\", \"name\": \"under\", \"scene\": \"scene\", \"showlegend\": true, \"type\": \"scatter3d\", \"x\": [-0.5273907780647278], \"y\": [0.2880713939666748], \"z\": [0.32054823637008667]}, {\"hovertemplate\": \"color=few<br>0=%{x}<br>1=%{y}<br>2=%{z}<extra></extra>\", \"legendgroup\": \"few\", \"marker\": {\"color\": \"#00cc96\", \"symbol\": \"circle\"}, \"mode\": \"markers\", \"name\": \"few\", \"scene\": \"scene\", \"showlegend\": true, \"type\": \"scatter3d\", \"x\": [-0.01731627993285656], \"y\": [0.5663655996322632], \"z\": [-0.23203210532665253]}, {\"hovertemplate\": \"color=sent<br>0=%{x}<br>1=%{y}<br>2=%{z}<extra></extra>\", \"legendgroup\": \"sent\", \"marker\": {\"color\": \"#ab63fa\", \"symbol\": \"circle\"}, \"mode\": \"markers\", \"name\": \"sent\", \"scene\": \"scene\", \"showlegend\": true, \"type\": \"scatter3d\", \"x\": [0.2668311893939972], \"y\": [0.5353221893310547], \"z\": [0.43604734539985657]}, {\"hovertemplate\": \"color=perhaps<br>0=%{x}<br>1=%{y}<br>2=%{z}<extra></extra>\", \"legendgroup\": \"perhaps\", \"marker\": {\"color\": \"#FFA15A\", \"symbol\": \"circle\"}, \"mode\": \"markers\", \"name\": \"perhaps\", \"scene\": \"scene\", \"showlegend\": true, \"type\": \"scatter3d\", \"x\": [0.7065504789352417], \"y\": [0.5117121934890747], \"z\": [0.08692282438278198]}, {\"hovertemplate\": \"color=almost<br>0=%{x}<br>1=%{y}<br>2=%{z}<extra></extra>\", \"legendgroup\": \"almost\", \"marker\": {\"color\": \"#19d3f3\", \"symbol\": \"circle\"}, \"mode\": \"markers\", \"name\": \"almost\", \"scene\": \"scene\", \"showlegend\": true, \"type\": \"scatter3d\", \"x\": [-0.22824908792972565], \"y\": [0.3330618739128113], \"z\": [0.42023521661758423]}, {\"hovertemplate\": \"color=such<br>0=%{x}<br>1=%{y}<br>2=%{z}<extra></extra>\", \"legendgroup\": \"such\", \"marker\": {\"color\": \"#FF6692\", \"symbol\": \"circle\"}, \"mode\": \"markers\", \"name\": \"such\", \"scene\": \"scene\", \"showlegend\": true, \"type\": \"scatter3d\", \"x\": [0.6444201469421387], \"y\": [0.449065625667572], \"z\": [-0.13060835003852844]}, {\"hovertemplate\": \"color=wanted<br>0=%{x}<br>1=%{y}<br>2=%{z}<extra></extra>\", \"legendgroup\": \"wanted\", \"marker\": {\"color\": \"#B6E880\", \"symbol\": \"circle\"}, \"mode\": \"markers\", \"name\": \"wanted\", \"scene\": \"scene\", \"showlegend\": true, \"type\": \"scatter3d\", \"x\": [0.4710076153278351], \"y\": [0.4564026892185211], \"z\": [0.5421333909034729]}, {\"hovertemplate\": \"color=daughter<br>0=%{x}<br>1=%{y}<br>2=%{z}<extra></extra>\", \"legendgroup\": \"daughter\", \"marker\": {\"color\": \"#FF97FF\", \"symbol\": \"circle\"}, \"mode\": \"markers\", \"name\": \"daughter\", \"scene\": \"scene\", \"showlegend\": true, \"type\": \"scatter3d\", \"x\": [0.5411143898963928], \"y\": [0.29007038474082947], \"z\": [0.09393390268087387]}, {\"hovertemplate\": \"color=true<br>0=%{x}<br>1=%{y}<br>2=%{z}<extra></extra>\", \"legendgroup\": \"true\", \"marker\": {\"color\": \"#FECB52\", \"symbol\": \"circle\"}, \"mode\": \"markers\", \"name\": \"true\", \"scene\": \"scene\", \"showlegend\": true, \"type\": \"scatter3d\", \"x\": [0.6975970268249512], \"y\": [0.44266363978385925], \"z\": [-0.044859472662210464]}, {\"hovertemplate\": \"color=while<br>0=%{x}<br>1=%{y}<br>2=%{z}<extra></extra>\", \"legendgroup\": \"while\", \"marker\": {\"color\": \"#636efa\", \"symbol\": \"circle\"}, \"mode\": \"markers\", \"name\": \"while\", \"scene\": \"scene\", \"showlegend\": true, \"type\": \"scatter3d\", \"x\": [-0.3320360481739044], \"y\": [0.4869864583015442], \"z\": [0.2659769654273987]}, {\"hovertemplate\": \"color=leave<br>0=%{x}<br>1=%{y}<br>2=%{z}<extra></extra>\", \"legendgroup\": \"leave\", \"marker\": {\"color\": \"#EF553B\", \"symbol\": \"circle\"}, \"mode\": \"markers\", \"name\": \"leave\", \"scene\": \"scene\", \"showlegend\": true, \"type\": \"scatter3d\", \"x\": [0.46512365341186523], \"y\": [0.6473738551139832], \"z\": [0.3274875581264496]}, {\"hovertemplate\": \"color=city<br>0=%{x}<br>1=%{y}<br>2=%{z}<extra></extra>\", \"legendgroup\": \"city\", \"marker\": {\"color\": \"#00cc96\", \"symbol\": \"circle\"}, \"mode\": \"markers\", \"name\": \"city\", \"scene\": \"scene\", \"showlegend\": true, \"type\": \"scatter3d\", \"x\": [0.13417038321495056], \"y\": [0.8213449716567993], \"z\": [-0.37632298469543457]}, {\"hovertemplate\": \"color=wind<br>0=%{x}<br>1=%{y}<br>2=%{z}<extra></extra>\", \"legendgroup\": \"wind\", \"marker\": {\"color\": \"#ab63fa\", \"symbol\": \"circle\"}, \"mode\": \"markers\", \"name\": \"wind\", \"scene\": \"scene\", \"showlegend\": true, \"type\": \"scatter3d\", \"x\": [-0.581912100315094], \"y\": [0.5345970392227173], \"z\": [0.10795456916093826]}, {\"hovertemplate\": \"color=light<br>0=%{x}<br>1=%{y}<br>2=%{z}<extra></extra>\", \"legendgroup\": \"light\", \"marker\": {\"color\": \"#FFA15A\", \"symbol\": \"circle\"}, \"mode\": \"markers\", \"name\": \"light\", \"scene\": \"scene\", \"showlegend\": true, \"type\": \"scatter3d\", \"x\": [-0.41404202580451965], \"y\": [0.6035939455032349], \"z\": [0.022770071402192116]}, {\"hovertemplate\": \"color=arms<br>0=%{x}<br>1=%{y}<br>2=%{z}<extra></extra>\", \"legendgroup\": \"arms\", \"marker\": {\"color\": \"#19d3f3\", \"symbol\": \"circle\"}, \"mode\": \"markers\", \"name\": \"arms\", \"scene\": \"scene\", \"showlegend\": true, \"type\": \"scatter3d\", \"x\": [-0.17579573392868042], \"y\": [0.39821624755859375], \"z\": [0.2491157203912735]}, {\"hovertemplate\": \"color=children<br>0=%{x}<br>1=%{y}<br>2=%{z}<extra></extra>\", \"legendgroup\": \"children\", \"marker\": {\"color\": \"#FF6692\", \"symbol\": \"circle\"}, \"mode\": \"markers\", \"name\": \"children\", \"scene\": \"scene\", \"showlegend\": true, \"type\": \"scatter3d\", \"x\": [0.3494141399860382], \"y\": [0.6592994332313538], \"z\": [-0.26720425486564636]}, {\"hovertemplate\": \"color=herself<br>0=%{x}<br>1=%{y}<br>2=%{z}<extra></extra>\", \"legendgroup\": \"herself\", \"marker\": {\"color\": \"#B6E880\", \"symbol\": \"circle\"}, \"mode\": \"markers\", \"name\": \"herself\", \"scene\": \"scene\", \"showlegend\": true, \"type\": \"scatter3d\", \"x\": [0.06781596690416336], \"y\": [0.37938815355300903], \"z\": [0.33535513281822205]}, {\"hovertemplate\": \"color=sweet<br>0=%{x}<br>1=%{y}<br>2=%{z}<extra></extra>\", \"legendgroup\": \"sweet\", \"marker\": {\"color\": \"#FF97FF\", \"symbol\": \"circle\"}, \"mode\": \"markers\", \"name\": \"sweet\", \"scene\": \"scene\", \"showlegend\": true, \"type\": \"scatter3d\", \"x\": [0.41808685660362244], \"y\": [0.22203923761844635], \"z\": [0.2694796323776245]}, {\"hovertemplate\": \"color=others<br>0=%{x}<br>1=%{y}<br>2=%{z}<extra></extra>\", \"legendgroup\": \"others\", \"marker\": {\"color\": \"#FECB52\", \"symbol\": \"circle\"}, \"mode\": \"markers\", \"name\": \"others\", \"scene\": \"scene\", \"showlegend\": true, \"type\": \"scatter3d\", \"x\": [0.005228282418102026], \"y\": [0.6186545491218567], \"z\": [-0.16148962080478668]}, {\"hovertemplate\": \"color=lost<br>0=%{x}<br>1=%{y}<br>2=%{z}<extra></extra>\", \"legendgroup\": \"lost\", \"marker\": {\"color\": \"#636efa\", \"symbol\": \"circle\"}, \"mode\": \"markers\", \"name\": \"lost\", \"scene\": \"scene\", \"showlegend\": true, \"type\": \"scatter3d\", \"x\": [0.24762412905693054], \"y\": [0.516746997833252], \"z\": [0.25276806950569153]}, {\"hovertemplate\": \"color=theon<br>0=%{x}<br>1=%{y}<br>2=%{z}<extra></extra>\", \"legendgroup\": \"theon\", \"marker\": {\"color\": \"#EF553B\", \"symbol\": \"circle\"}, \"mode\": \"markers\", \"name\": \"theon\", \"scene\": \"scene\", \"showlegend\": true, \"type\": \"scatter3d\", \"x\": [0.2367607206106186], \"y\": [0.3080267608165741], \"z\": [0.2839091122150421]}, {\"hovertemplate\": \"color=each<br>0=%{x}<br>1=%{y}<br>2=%{z}<extra></extra>\", \"legendgroup\": \"each\", \"marker\": {\"color\": \"#00cc96\", \"symbol\": \"circle\"}, \"mode\": \"markers\", \"name\": \"each\", \"scene\": \"scene\", \"showlegend\": true, \"type\": \"scatter3d\", \"x\": [-0.24766243994235992], \"y\": [0.517462968826294], \"z\": [-0.04880189895629883]}, {\"hovertemplate\": \"color=felt<br>0=%{x}<br>1=%{y}<br>2=%{z}<extra></extra>\", \"legendgroup\": \"felt\", \"marker\": {\"color\": \"#ab63fa\", \"symbol\": \"circle\"}, \"mode\": \"markers\", \"name\": \"felt\", \"scene\": \"scene\", \"showlegend\": true, \"type\": \"scatter3d\", \"x\": [-0.11335565149784088], \"y\": [0.2981109321117401], \"z\": [0.6247493028640747]}, {\"hovertemplate\": \"color=side<br>0=%{x}<br>1=%{y}<br>2=%{z}<extra></extra>\", \"legendgroup\": \"side\", \"marker\": {\"color\": \"#FFA15A\", \"symbol\": \"circle\"}, \"mode\": \"markers\", \"name\": \"side\", \"scene\": \"scene\", \"showlegend\": true, \"type\": \"scatter3d\", \"x\": [-0.296562135219574], \"y\": [0.6708884835243225], \"z\": [0.21424928307533264]}, {\"hovertemplate\": \"color=yes<br>0=%{x}<br>1=%{y}<br>2=%{z}<extra></extra>\", \"legendgroup\": \"yes\", \"marker\": {\"color\": \"#19d3f3\", \"symbol\": \"circle\"}, \"mode\": \"markers\", \"name\": \"yes\", \"scene\": \"scene\", \"showlegend\": true, \"type\": \"scatter3d\", \"x\": [0.7515420317649841], \"y\": [0.2719961702823639], \"z\": [0.20816773176193237]}, {\"hovertemplate\": \"color=brothers<br>0=%{x}<br>1=%{y}<br>2=%{z}<extra></extra>\", \"legendgroup\": \"brothers\", \"marker\": {\"color\": \"#FF6692\", \"symbol\": \"circle\"}, \"mode\": \"markers\", \"name\": \"brothers\", \"scene\": \"scene\", \"showlegend\": true, \"type\": \"scatter3d\", \"x\": [0.28792157769203186], \"y\": [0.6757932305335999], \"z\": [-0.1487574726343155]}, {\"hovertemplate\": \"color=best<br>0=%{x}<br>1=%{y}<br>2=%{z}<extra></extra>\", \"legendgroup\": \"best\", \"marker\": {\"color\": \"#B6E880\", \"symbol\": \"circle\"}, \"mode\": \"markers\", \"name\": \"best\", \"scene\": \"scene\", \"showlegend\": true, \"type\": \"scatter3d\", \"x\": [0.5693362951278687], \"y\": [0.6080368161201477], \"z\": [0.1077083870768547]}, {\"hovertemplate\": \"color=very<br>0=%{x}<br>1=%{y}<br>2=%{z}<extra></extra>\", \"legendgroup\": \"very\", \"marker\": {\"color\": \"#FF97FF\", \"symbol\": \"circle\"}, \"mode\": \"markers\", \"name\": \"very\", \"scene\": \"scene\", \"showlegend\": true, \"type\": \"scatter3d\", \"x\": [0.3610643446445465], \"y\": [0.3455235958099365], \"z\": [0.08323515951633453]}, {\"hovertemplate\": \"color=die<br>0=%{x}<br>1=%{y}<br>2=%{z}<extra></extra>\", \"legendgroup\": \"die\", \"marker\": {\"color\": \"#FECB52\", \"symbol\": \"circle\"}, \"mode\": \"markers\", \"name\": \"die\", \"scene\": \"scene\", \"showlegend\": true, \"type\": \"scatter3d\", \"x\": [0.49196603894233704], \"y\": [0.6719977259635925], \"z\": [0.18074999749660492]}],                        {\"legend\": {\"title\": {\"text\": \"color\"}, \"tracegroupgap\": 0}, \"margin\": {\"t\": 60}, \"scene\": {\"domain\": {\"x\": [0.0, 1.0], \"y\": [0.0, 1.0]}, \"xaxis\": {\"title\": {\"text\": \"0\"}}, \"yaxis\": {\"title\": {\"text\": \"1\"}}, \"zaxis\": {\"title\": {\"text\": \"2\"}}}, \"template\": {\"data\": {\"bar\": [{\"error_x\": {\"color\": \"#2a3f5f\"}, \"error_y\": {\"color\": \"#2a3f5f\"}, \"marker\": {\"line\": {\"color\": \"#E5ECF6\", \"width\": 0.5}}, \"type\": \"bar\"}], \"barpolar\": [{\"marker\": {\"line\": {\"color\": \"#E5ECF6\", \"width\": 0.5}}, \"type\": \"barpolar\"}], \"carpet\": [{\"aaxis\": {\"endlinecolor\": \"#2a3f5f\", \"gridcolor\": \"white\", \"linecolor\": \"white\", \"minorgridcolor\": \"white\", \"startlinecolor\": \"#2a3f5f\"}, \"baxis\": {\"endlinecolor\": \"#2a3f5f\", \"gridcolor\": \"white\", \"linecolor\": \"white\", \"minorgridcolor\": \"white\", \"startlinecolor\": \"#2a3f5f\"}, \"type\": \"carpet\"}], \"choropleth\": [{\"colorbar\": {\"outlinewidth\": 0, \"ticks\": \"\"}, \"type\": \"choropleth\"}], \"contour\": [{\"colorbar\": {\"outlinewidth\": 0, \"ticks\": \"\"}, \"colorscale\": [[0.0, \"#0d0887\"], [0.1111111111111111, \"#46039f\"], [0.2222222222222222, \"#7201a8\"], [0.3333333333333333, \"#9c179e\"], [0.4444444444444444, \"#bd3786\"], [0.5555555555555556, \"#d8576b\"], [0.6666666666666666, \"#ed7953\"], [0.7777777777777778, \"#fb9f3a\"], [0.8888888888888888, \"#fdca26\"], [1.0, \"#f0f921\"]], \"type\": \"contour\"}], \"contourcarpet\": [{\"colorbar\": {\"outlinewidth\": 0, \"ticks\": \"\"}, \"type\": \"contourcarpet\"}], \"heatmap\": [{\"colorbar\": {\"outlinewidth\": 0, \"ticks\": \"\"}, \"colorscale\": [[0.0, \"#0d0887\"], [0.1111111111111111, \"#46039f\"], [0.2222222222222222, \"#7201a8\"], [0.3333333333333333, \"#9c179e\"], [0.4444444444444444, \"#bd3786\"], [0.5555555555555556, \"#d8576b\"], [0.6666666666666666, \"#ed7953\"], [0.7777777777777778, \"#fb9f3a\"], [0.8888888888888888, \"#fdca26\"], [1.0, \"#f0f921\"]], \"type\": \"heatmap\"}], \"heatmapgl\": [{\"colorbar\": {\"outlinewidth\": 0, \"ticks\": \"\"}, \"colorscale\": [[0.0, \"#0d0887\"], [0.1111111111111111, \"#46039f\"], [0.2222222222222222, \"#7201a8\"], [0.3333333333333333, \"#9c179e\"], [0.4444444444444444, \"#bd3786\"], [0.5555555555555556, \"#d8576b\"], [0.6666666666666666, \"#ed7953\"], [0.7777777777777778, \"#fb9f3a\"], [0.8888888888888888, \"#fdca26\"], [1.0, \"#f0f921\"]], \"type\": \"heatmapgl\"}], \"histogram\": [{\"marker\": {\"colorbar\": {\"outlinewidth\": 0, \"ticks\": \"\"}}, \"type\": \"histogram\"}], \"histogram2d\": [{\"colorbar\": {\"outlinewidth\": 0, \"ticks\": \"\"}, \"colorscale\": [[0.0, \"#0d0887\"], [0.1111111111111111, \"#46039f\"], [0.2222222222222222, \"#7201a8\"], [0.3333333333333333, \"#9c179e\"], [0.4444444444444444, \"#bd3786\"], [0.5555555555555556, \"#d8576b\"], [0.6666666666666666, \"#ed7953\"], [0.7777777777777778, \"#fb9f3a\"], [0.8888888888888888, \"#fdca26\"], [1.0, \"#f0f921\"]], \"type\": \"histogram2d\"}], \"histogram2dcontour\": [{\"colorbar\": {\"outlinewidth\": 0, \"ticks\": \"\"}, \"colorscale\": [[0.0, \"#0d0887\"], [0.1111111111111111, \"#46039f\"], [0.2222222222222222, \"#7201a8\"], [0.3333333333333333, \"#9c179e\"], [0.4444444444444444, \"#bd3786\"], [0.5555555555555556, \"#d8576b\"], [0.6666666666666666, \"#ed7953\"], [0.7777777777777778, \"#fb9f3a\"], [0.8888888888888888, \"#fdca26\"], [1.0, \"#f0f921\"]], \"type\": \"histogram2dcontour\"}], \"mesh3d\": [{\"colorbar\": {\"outlinewidth\": 0, \"ticks\": \"\"}, \"type\": \"mesh3d\"}], \"parcoords\": [{\"line\": {\"colorbar\": {\"outlinewidth\": 0, \"ticks\": \"\"}}, \"type\": \"parcoords\"}], \"pie\": [{\"automargin\": true, \"type\": \"pie\"}], \"scatter\": [{\"marker\": {\"colorbar\": {\"outlinewidth\": 0, \"ticks\": \"\"}}, \"type\": \"scatter\"}], \"scatter3d\": [{\"line\": {\"colorbar\": {\"outlinewidth\": 0, \"ticks\": \"\"}}, \"marker\": {\"colorbar\": {\"outlinewidth\": 0, \"ticks\": \"\"}}, \"type\": \"scatter3d\"}], \"scattercarpet\": [{\"marker\": {\"colorbar\": {\"outlinewidth\": 0, \"ticks\": \"\"}}, \"type\": \"scattercarpet\"}], \"scattergeo\": [{\"marker\": {\"colorbar\": {\"outlinewidth\": 0, \"ticks\": \"\"}}, \"type\": \"scattergeo\"}], \"scattergl\": [{\"marker\": {\"colorbar\": {\"outlinewidth\": 0, \"ticks\": \"\"}}, \"type\": \"scattergl\"}], \"scattermapbox\": [{\"marker\": {\"colorbar\": {\"outlinewidth\": 0, \"ticks\": \"\"}}, \"type\": \"scattermapbox\"}], \"scatterpolar\": [{\"marker\": {\"colorbar\": {\"outlinewidth\": 0, \"ticks\": \"\"}}, \"type\": \"scatterpolar\"}], \"scatterpolargl\": [{\"marker\": {\"colorbar\": {\"outlinewidth\": 0, \"ticks\": \"\"}}, \"type\": \"scatterpolargl\"}], \"scatterternary\": [{\"marker\": {\"colorbar\": {\"outlinewidth\": 0, \"ticks\": \"\"}}, \"type\": \"scatterternary\"}], \"surface\": [{\"colorbar\": {\"outlinewidth\": 0, \"ticks\": \"\"}, \"colorscale\": [[0.0, \"#0d0887\"], [0.1111111111111111, \"#46039f\"], [0.2222222222222222, \"#7201a8\"], [0.3333333333333333, \"#9c179e\"], [0.4444444444444444, \"#bd3786\"], [0.5555555555555556, \"#d8576b\"], [0.6666666666666666, \"#ed7953\"], [0.7777777777777778, \"#fb9f3a\"], [0.8888888888888888, \"#fdca26\"], [1.0, \"#f0f921\"]], \"type\": \"surface\"}], \"table\": [{\"cells\": {\"fill\": {\"color\": \"#EBF0F8\"}, \"line\": {\"color\": \"white\"}}, \"header\": {\"fill\": {\"color\": \"#C8D4E3\"}, \"line\": {\"color\": \"white\"}}, \"type\": \"table\"}]}, \"layout\": {\"annotationdefaults\": {\"arrowcolor\": \"#2a3f5f\", \"arrowhead\": 0, \"arrowwidth\": 1}, \"autotypenumbers\": \"strict\", \"coloraxis\": {\"colorbar\": {\"outlinewidth\": 0, \"ticks\": \"\"}}, \"colorscale\": {\"diverging\": [[0, \"#8e0152\"], [0.1, \"#c51b7d\"], [0.2, \"#de77ae\"], [0.3, \"#f1b6da\"], [0.4, \"#fde0ef\"], [0.5, \"#f7f7f7\"], [0.6, \"#e6f5d0\"], [0.7, \"#b8e186\"], [0.8, \"#7fbc41\"], [0.9, \"#4d9221\"], [1, \"#276419\"]], \"sequential\": [[0.0, \"#0d0887\"], [0.1111111111111111, \"#46039f\"], [0.2222222222222222, \"#7201a8\"], [0.3333333333333333, \"#9c179e\"], [0.4444444444444444, \"#bd3786\"], [0.5555555555555556, \"#d8576b\"], [0.6666666666666666, \"#ed7953\"], [0.7777777777777778, \"#fb9f3a\"], [0.8888888888888888, \"#fdca26\"], [1.0, \"#f0f921\"]], \"sequentialminus\": [[0.0, \"#0d0887\"], [0.1111111111111111, \"#46039f\"], [0.2222222222222222, \"#7201a8\"], [0.3333333333333333, \"#9c179e\"], [0.4444444444444444, \"#bd3786\"], [0.5555555555555556, \"#d8576b\"], [0.6666666666666666, \"#ed7953\"], [0.7777777777777778, \"#fb9f3a\"], [0.8888888888888888, \"#fdca26\"], [1.0, \"#f0f921\"]]}, \"colorway\": [\"#636efa\", \"#EF553B\", \"#00cc96\", \"#ab63fa\", \"#FFA15A\", \"#19d3f3\", \"#FF6692\", \"#B6E880\", \"#FF97FF\", \"#FECB52\"], \"font\": {\"color\": \"#2a3f5f\"}, \"geo\": {\"bgcolor\": \"white\", \"lakecolor\": \"white\", \"landcolor\": \"#E5ECF6\", \"showlakes\": true, \"showland\": true, \"subunitcolor\": \"white\"}, \"hoverlabel\": {\"align\": \"left\"}, \"hovermode\": \"closest\", \"mapbox\": {\"style\": \"light\"}, \"paper_bgcolor\": \"white\", \"plot_bgcolor\": \"#E5ECF6\", \"polar\": {\"angularaxis\": {\"gridcolor\": \"white\", \"linecolor\": \"white\", \"ticks\": \"\"}, \"bgcolor\": \"#E5ECF6\", \"radialaxis\": {\"gridcolor\": \"white\", \"linecolor\": \"white\", \"ticks\": \"\"}}, \"scene\": {\"xaxis\": {\"backgroundcolor\": \"#E5ECF6\", \"gridcolor\": \"white\", \"gridwidth\": 2, \"linecolor\": \"white\", \"showbackground\": true, \"ticks\": \"\", \"zerolinecolor\": \"white\"}, \"yaxis\": {\"backgroundcolor\": \"#E5ECF6\", \"gridcolor\": \"white\", \"gridwidth\": 2, \"linecolor\": \"white\", \"showbackground\": true, \"ticks\": \"\", \"zerolinecolor\": \"white\"}, \"zaxis\": {\"backgroundcolor\": \"#E5ECF6\", \"gridcolor\": \"white\", \"gridwidth\": 2, \"linecolor\": \"white\", \"showbackground\": true, \"ticks\": \"\", \"zerolinecolor\": \"white\"}}, \"shapedefaults\": {\"line\": {\"color\": \"#2a3f5f\"}}, \"ternary\": {\"aaxis\": {\"gridcolor\": \"white\", \"linecolor\": \"white\", \"ticks\": \"\"}, \"baxis\": {\"gridcolor\": \"white\", \"linecolor\": \"white\", \"ticks\": \"\"}, \"bgcolor\": \"#E5ECF6\", \"caxis\": {\"gridcolor\": \"white\", \"linecolor\": \"white\", \"ticks\": \"\"}}, \"title\": {\"x\": 0.05}, \"xaxis\": {\"automargin\": true, \"gridcolor\": \"white\", \"linecolor\": \"white\", \"ticks\": \"\", \"title\": {\"standoff\": 15}, \"zerolinecolor\": \"white\", \"zerolinewidth\": 2}, \"yaxis\": {\"automargin\": true, \"gridcolor\": \"white\", \"linecolor\": \"white\", \"ticks\": \"\", \"title\": {\"standoff\": 15}, \"zerolinecolor\": \"white\", \"zerolinewidth\": 2}}}},                        {\"responsive\": true}                    ).then(function(){\n",
       "                            \n",
       "var gd = document.getElementById('cc846b4d-be59-4b92-90cf-33003456337c');\n",
       "var x = new MutationObserver(function (mutations, observer) {{\n",
       "        var display = window.getComputedStyle(gd).display;\n",
       "        if (!display || display === 'none') {{\n",
       "            console.log([gd, 'removed!']);\n",
       "            Plotly.purge(gd);\n",
       "            observer.disconnect();\n",
       "        }}\n",
       "}});\n",
       "\n",
       "// Listen for the removal of the full notebook cells\n",
       "var notebookContainer = gd.closest('#notebook-container');\n",
       "if (notebookContainer) {{\n",
       "    x.observe(notebookContainer, {childList: true});\n",
       "}}\n",
       "\n",
       "// Listen for the clearing of the current output cell\n",
       "var outputEl = gd.closest('.output');\n",
       "if (outputEl) {{\n",
       "    x.observe(outputEl, {childList: true});\n",
       "}}\n",
       "\n",
       "                        })                };                });            </script>        </div>"
      ]
     },
     "metadata": {},
     "output_type": "display_data"
    }
   ],
   "source": [
    "import plotly.express as px\n",
    "\n",
    "fig=px.scatter_3d(X[200:300],x=0,y=1,z=2,color=y[200:300])\n",
    "fig.show()"
   ]
  },
  {
   "cell_type": "code",
   "execution_count": null,
   "id": "assured-optics",
   "metadata": {},
   "outputs": [],
   "source": []
  }
 ],
 "metadata": {
  "kernelspec": {
   "display_name": "Python 3 (ipykernel)",
   "language": "python",
   "name": "python3"
  },
  "language_info": {
   "codemirror_mode": {
    "name": "ipython",
    "version": 3
   },
   "file_extension": ".py",
   "mimetype": "text/x-python",
   "name": "python",
   "nbconvert_exporter": "python",
   "pygments_lexer": "ipython3",
   "version": "3.8.6"
  }
 },
 "nbformat": 4,
 "nbformat_minor": 5
}
